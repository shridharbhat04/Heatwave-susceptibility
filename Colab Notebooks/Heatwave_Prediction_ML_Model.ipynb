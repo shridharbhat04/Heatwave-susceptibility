{
  "nbformat": 4,
  "nbformat_minor": 0,
  "metadata": {
    "colab": {
      "provenance": [],
      "gpuType": "T4"
    },
    "kernelspec": {
      "name": "python3",
      "display_name": "Python 3"
    },
    "language_info": {
      "name": "python"
    },
    "accelerator": "GPU"
  },
  "cells": [
    {
      "cell_type": "code",
      "execution_count": 1,
      "metadata": {
        "colab": {
          "base_uri": "https://localhost:8080/"
        },
        "id": "zfY9nluCgsh_",
        "outputId": "380e599c-3601-4218-9fa5-03318159d15f"
      },
      "outputs": [
        {
          "output_type": "stream",
          "name": "stderr",
          "text": [
            "/usr/local/lib/python3.11/dist-packages/keras/src/layers/core/dense.py:87: UserWarning: Do not pass an `input_shape`/`input_dim` argument to a layer. When using Sequential models, prefer using an `Input(shape)` object as the first layer in the model instead.\n",
            "  super().__init__(activity_regularizer=activity_regularizer, **kwargs)\n"
          ]
        },
        {
          "output_type": "stream",
          "name": "stdout",
          "text": [
            "Epoch 1/150\n",
            "\u001b[1m3/3\u001b[0m \u001b[32m━━━━━━━━━━━━━━━━━━━━\u001b[0m\u001b[37m\u001b[0m \u001b[1m17s\u001b[0m 3s/step - loss: 2.9487 - mae: 0.5876 - val_loss: 2.7900 - val_mae: 0.4810\n",
            "Epoch 2/150\n",
            "\u001b[1m3/3\u001b[0m \u001b[32m━━━━━━━━━━━━━━━━━━━━\u001b[0m\u001b[37m\u001b[0m \u001b[1m1s\u001b[0m 31ms/step - loss: 2.7849 - mae: 0.5018 - val_loss: 2.6881 - val_mae: 0.4298\n",
            "Epoch 3/150\n",
            "\u001b[1m3/3\u001b[0m \u001b[32m━━━━━━━━━━━━━━━━━━━━\u001b[0m\u001b[37m\u001b[0m \u001b[1m0s\u001b[0m 28ms/step - loss: 2.6852 - mae: 0.4495 - val_loss: 2.6083 - val_mae: 0.3988\n",
            "Epoch 4/150\n",
            "\u001b[1m3/3\u001b[0m \u001b[32m━━━━━━━━━━━━━━━━━━━━\u001b[0m\u001b[37m\u001b[0m \u001b[1m0s\u001b[0m 28ms/step - loss: 2.5810 - mae: 0.3927 - val_loss: 2.5302 - val_mae: 0.3659\n",
            "Epoch 5/150\n",
            "\u001b[1m3/3\u001b[0m \u001b[32m━━━━━━━━━━━━━━━━━━━━\u001b[0m\u001b[37m\u001b[0m \u001b[1m0s\u001b[0m 29ms/step - loss: 2.5044 - mae: 0.3604 - val_loss: 2.4566 - val_mae: 0.3353\n",
            "Epoch 6/150\n",
            "\u001b[1m3/3\u001b[0m \u001b[32m━━━━━━━━━━━━━━━━━━━━\u001b[0m\u001b[37m\u001b[0m \u001b[1m0s\u001b[0m 32ms/step - loss: 2.4341 - mae: 0.3366 - val_loss: 2.3842 - val_mae: 0.3040\n",
            "Epoch 7/150\n",
            "\u001b[1m3/3\u001b[0m \u001b[32m━━━━━━━━━━━━━━━━━━━━\u001b[0m\u001b[37m\u001b[0m \u001b[1m0s\u001b[0m 33ms/step - loss: 2.3666 - mae: 0.3094 - val_loss: 2.3120 - val_mae: 0.2696\n",
            "Epoch 8/150\n",
            "\u001b[1m3/3\u001b[0m \u001b[32m━━━━━━━━━━━━━━━━━━━━\u001b[0m\u001b[37m\u001b[0m \u001b[1m0s\u001b[0m 28ms/step - loss: 2.3002 - mae: 0.2827 - val_loss: 2.2410 - val_mae: 0.2320\n",
            "Epoch 9/150\n",
            "\u001b[1m3/3\u001b[0m \u001b[32m━━━━━━━━━━━━━━━━━━━━\u001b[0m\u001b[37m\u001b[0m \u001b[1m0s\u001b[0m 27ms/step - loss: 2.2499 - mae: 0.2709 - val_loss: 2.1730 - val_mae: 0.1929\n",
            "Epoch 10/150\n",
            "\u001b[1m3/3\u001b[0m \u001b[32m━━━━━━━━━━━━━━━━━━━━\u001b[0m\u001b[37m\u001b[0m \u001b[1m0s\u001b[0m 30ms/step - loss: 2.1767 - mae: 0.2340 - val_loss: 2.1085 - val_mae: 0.1600\n",
            "Epoch 11/150\n",
            "\u001b[1m3/3\u001b[0m \u001b[32m━━━━━━━━━━━━━━━━━━━━\u001b[0m\u001b[37m\u001b[0m \u001b[1m0s\u001b[0m 32ms/step - loss: 2.1342 - mae: 0.2443 - val_loss: 2.0485 - val_mae: 0.1426\n",
            "Epoch 12/150\n",
            "\u001b[1m3/3\u001b[0m \u001b[32m━━━━━━━━━━━━━━━━━━━━\u001b[0m\u001b[37m\u001b[0m \u001b[1m0s\u001b[0m 30ms/step - loss: 2.0707 - mae: 0.2109 - val_loss: 1.9917 - val_mae: 0.1248\n",
            "Epoch 13/150\n",
            "\u001b[1m3/3\u001b[0m \u001b[32m━━━━━━━━━━━━━━━━━━━━\u001b[0m\u001b[37m\u001b[0m \u001b[1m0s\u001b[0m 30ms/step - loss: 2.0054 - mae: 0.1659 - val_loss: 1.9383 - val_mae: 0.1064\n",
            "Epoch 14/150\n",
            "\u001b[1m3/3\u001b[0m \u001b[32m━━━━━━━━━━━━━━━━━━━━\u001b[0m\u001b[37m\u001b[0m \u001b[1m0s\u001b[0m 31ms/step - loss: 1.9780 - mae: 0.2142 - val_loss: 1.8881 - val_mae: 0.0898\n",
            "Epoch 15/150\n",
            "\u001b[1m3/3\u001b[0m \u001b[32m━━━━━━━━━━━━━━━━━━━━\u001b[0m\u001b[37m\u001b[0m \u001b[1m0s\u001b[0m 37ms/step - loss: 1.9251 - mae: 0.1945 - val_loss: 1.8407 - val_mae: 0.0845\n",
            "Epoch 16/150\n",
            "\u001b[1m3/3\u001b[0m \u001b[32m━━━━━━━━━━━━━━━━━━━━\u001b[0m\u001b[37m\u001b[0m \u001b[1m0s\u001b[0m 33ms/step - loss: 1.8521 - mae: 0.1453 - val_loss: 1.7946 - val_mae: 0.0814\n",
            "Epoch 17/150\n",
            "\u001b[1m3/3\u001b[0m \u001b[32m━━━━━━━━━━━━━━━━━━━━\u001b[0m\u001b[37m\u001b[0m \u001b[1m0s\u001b[0m 31ms/step - loss: 1.8159 - mae: 0.1559 - val_loss: 1.7494 - val_mae: 0.0795\n",
            "Epoch 18/150\n",
            "\u001b[1m3/3\u001b[0m \u001b[32m━━━━━━━━━━━━━━━━━━━━\u001b[0m\u001b[37m\u001b[0m \u001b[1m0s\u001b[0m 29ms/step - loss: 1.7940 - mae: 0.1904 - val_loss: 1.7061 - val_mae: 0.0865\n",
            "Epoch 19/150\n",
            "\u001b[1m3/3\u001b[0m \u001b[32m━━━━━━━━━━━━━━━━━━━━\u001b[0m\u001b[37m\u001b[0m \u001b[1m0s\u001b[0m 29ms/step - loss: 1.7130 - mae: 0.1257 - val_loss: 1.6651 - val_mae: 0.0938\n",
            "Epoch 20/150\n",
            "\u001b[1m3/3\u001b[0m \u001b[32m━━━━━━━━━━━━━━━━━━━━\u001b[0m\u001b[37m\u001b[0m \u001b[1m0s\u001b[0m 28ms/step - loss: 1.6745 - mae: 0.1234 - val_loss: 1.6248 - val_mae: 0.0984\n",
            "Epoch 21/150\n",
            "\u001b[1m3/3\u001b[0m \u001b[32m━━━━━━━━━━━━━━━━━━━━\u001b[0m\u001b[37m\u001b[0m \u001b[1m0s\u001b[0m 29ms/step - loss: 1.6501 - mae: 0.1696 - val_loss: 1.5854 - val_mae: 0.1022\n",
            "Epoch 22/150\n",
            "\u001b[1m3/3\u001b[0m \u001b[32m━━━━━━━━━━━━━━━━━━━━\u001b[0m\u001b[37m\u001b[0m \u001b[1m0s\u001b[0m 50ms/step - loss: 1.6061 - mae: 0.1775 - val_loss: 1.5464 - val_mae: 0.1039\n",
            "Epoch 23/150\n",
            "\u001b[1m3/3\u001b[0m \u001b[32m━━━━━━━━━━━━━━━━━━━━\u001b[0m\u001b[37m\u001b[0m \u001b[1m0s\u001b[0m 31ms/step - loss: 1.5617 - mae: 0.1538 - val_loss: 1.5071 - val_mae: 0.1018\n",
            "Epoch 24/150\n",
            "\u001b[1m3/3\u001b[0m \u001b[32m━━━━━━━━━━━━━━━━━━━━\u001b[0m\u001b[37m\u001b[0m \u001b[1m0s\u001b[0m 34ms/step - loss: 1.5289 - mae: 0.1640 - val_loss: 1.4680 - val_mae: 0.0975\n",
            "Epoch 25/150\n",
            "\u001b[1m3/3\u001b[0m \u001b[32m━━━━━━━━━━━━━━━━━━━━\u001b[0m\u001b[37m\u001b[0m \u001b[1m0s\u001b[0m 34ms/step - loss: 1.4754 - mae: 0.1136 - val_loss: 1.4299 - val_mae: 0.0937\n",
            "Epoch 26/150\n",
            "\u001b[1m3/3\u001b[0m \u001b[32m━━━━━━━━━━━━━━━━━━━━\u001b[0m\u001b[37m\u001b[0m \u001b[1m0s\u001b[0m 30ms/step - loss: 1.4400 - mae: 0.1402 - val_loss: 1.3927 - val_mae: 0.0901\n",
            "Epoch 27/150\n",
            "\u001b[1m3/3\u001b[0m \u001b[32m━━━━━━━━━━━━━━━━━━━━\u001b[0m\u001b[37m\u001b[0m \u001b[1m0s\u001b[0m 28ms/step - loss: 1.4053 - mae: 0.1323 - val_loss: 1.3564 - val_mae: 0.0865\n",
            "Epoch 28/150\n",
            "\u001b[1m3/3\u001b[0m \u001b[32m━━━━━━━━━━━━━━━━━━━━\u001b[0m\u001b[37m\u001b[0m \u001b[1m0s\u001b[0m 30ms/step - loss: 1.3587 - mae: 0.0924 - val_loss: 1.3212 - val_mae: 0.0841\n",
            "Epoch 29/150\n",
            "\u001b[1m3/3\u001b[0m \u001b[32m━━━━━━━━━━━━━━━━━━━━\u001b[0m\u001b[37m\u001b[0m \u001b[1m0s\u001b[0m 29ms/step - loss: 1.3411 - mae: 0.1420 - val_loss: 1.2865 - val_mae: 0.0791\n",
            "Epoch 30/150\n",
            "\u001b[1m3/3\u001b[0m \u001b[32m━━━━━━━━━━━━━━━━━━━━\u001b[0m\u001b[37m\u001b[0m \u001b[1m0s\u001b[0m 31ms/step - loss: 1.2995 - mae: 0.1346 - val_loss: 1.2531 - val_mae: 0.0768\n",
            "Epoch 31/150\n",
            "\u001b[1m3/3\u001b[0m \u001b[32m━━━━━━━━━━━━━━━━━━━━\u001b[0m\u001b[37m\u001b[0m \u001b[1m0s\u001b[0m 30ms/step - loss: 1.2592 - mae: 0.1036 - val_loss: 1.2210 - val_mae: 0.0775\n",
            "Epoch 32/150\n",
            "\u001b[1m3/3\u001b[0m \u001b[32m━━━━━━━━━━━━━━━━━━━━\u001b[0m\u001b[37m\u001b[0m \u001b[1m0s\u001b[0m 28ms/step - loss: 1.2330 - mae: 0.1287 - val_loss: 1.1896 - val_mae: 0.0767\n",
            "Epoch 33/150\n",
            "\u001b[1m3/3\u001b[0m \u001b[32m━━━━━━━━━━━━━━━━━━━━\u001b[0m\u001b[37m\u001b[0m \u001b[1m0s\u001b[0m 31ms/step - loss: 1.1962 - mae: 0.1042 - val_loss: 1.1589 - val_mae: 0.0754\n",
            "Epoch 34/150\n",
            "\u001b[1m3/3\u001b[0m \u001b[32m━━━━━━━━━━━━━━━━━━━━\u001b[0m\u001b[37m\u001b[0m \u001b[1m0s\u001b[0m 30ms/step - loss: 1.1674 - mae: 0.1169 - val_loss: 1.1289 - val_mae: 0.0744\n",
            "Epoch 35/150\n",
            "\u001b[1m3/3\u001b[0m \u001b[32m━━━━━━━━━━━━━━━━━━━━\u001b[0m\u001b[37m\u001b[0m \u001b[1m0s\u001b[0m 38ms/step - loss: 1.1375 - mae: 0.1112 - val_loss: 1.0998 - val_mae: 0.0740\n",
            "Epoch 36/150\n",
            "\u001b[1m3/3\u001b[0m \u001b[32m━━━━━━━━━━━━━━━━━━━━\u001b[0m\u001b[37m\u001b[0m \u001b[1m0s\u001b[0m 32ms/step - loss: 1.1033 - mae: 0.0949 - val_loss: 1.0715 - val_mae: 0.0754\n",
            "Epoch 37/150\n",
            "\u001b[1m3/3\u001b[0m \u001b[32m━━━━━━━━━━━━━━━━━━━━\u001b[0m\u001b[37m\u001b[0m \u001b[1m0s\u001b[0m 29ms/step - loss: 1.0721 - mae: 0.0862 - val_loss: 1.0441 - val_mae: 0.0785\n",
            "Epoch 38/150\n",
            "\u001b[1m3/3\u001b[0m \u001b[32m━━━━━━━━━━━━━━━━━━━━\u001b[0m\u001b[37m\u001b[0m \u001b[1m0s\u001b[0m 30ms/step - loss: 1.0512 - mae: 0.1097 - val_loss: 1.0172 - val_mae: 0.0795\n",
            "Epoch 39/150\n",
            "\u001b[1m3/3\u001b[0m \u001b[32m━━━━━━━━━━━━━━━━━━━━\u001b[0m\u001b[37m\u001b[0m \u001b[1m0s\u001b[0m 30ms/step - loss: 1.0193 - mae: 0.0937 - val_loss: 0.9913 - val_mae: 0.0823\n",
            "Epoch 40/150\n",
            "\u001b[1m3/3\u001b[0m \u001b[32m━━━━━━━━━━━━━━━━━━━━\u001b[0m\u001b[37m\u001b[0m \u001b[1m0s\u001b[0m 30ms/step - loss: 0.9915 - mae: 0.0849 - val_loss: 0.9660 - val_mae: 0.0848\n",
            "Epoch 41/150\n",
            "\u001b[1m3/3\u001b[0m \u001b[32m━━━━━━━━━━━━━━━━━━━━\u001b[0m\u001b[37m\u001b[0m \u001b[1m0s\u001b[0m 29ms/step - loss: 0.9615 - mae: 0.0605 - val_loss: 0.9413 - val_mae: 0.0875\n",
            "Epoch 42/150\n",
            "\u001b[1m3/3\u001b[0m \u001b[32m━━━━━━━━━━━━━━━━━━━━\u001b[0m\u001b[37m\u001b[0m \u001b[1m0s\u001b[0m 30ms/step - loss: 0.9443 - mae: 0.0943 - val_loss: 0.9173 - val_mae: 0.0896\n",
            "Epoch 43/150\n",
            "\u001b[1m3/3\u001b[0m \u001b[32m━━━━━━━━━━━━━━━━━━━━\u001b[0m\u001b[37m\u001b[0m \u001b[1m0s\u001b[0m 29ms/step - loss: 0.9235 - mae: 0.1068 - val_loss: 0.8937 - val_mae: 0.0899\n",
            "Epoch 44/150\n",
            "\u001b[1m3/3\u001b[0m \u001b[32m━━━━━━━━━━━━━━━━━━━━\u001b[0m\u001b[37m\u001b[0m \u001b[1m0s\u001b[0m 34ms/step - loss: 0.8945 - mae: 0.0943 - val_loss: 0.8709 - val_mae: 0.0914\n",
            "Epoch 45/150\n",
            "\u001b[1m3/3\u001b[0m \u001b[32m━━━━━━━━━━━━━━━━━━━━\u001b[0m\u001b[37m\u001b[0m \u001b[1m0s\u001b[0m 34ms/step - loss: 0.8728 - mae: 0.1013 - val_loss: 0.8487 - val_mae: 0.0935\n",
            "Epoch 46/150\n",
            "\u001b[1m3/3\u001b[0m \u001b[32m━━━━━━━━━━━━━━━━━━━━\u001b[0m\u001b[37m\u001b[0m \u001b[1m0s\u001b[0m 28ms/step - loss: 0.8482 - mae: 0.0870 - val_loss: 0.8269 - val_mae: 0.0935\n",
            "Epoch 47/150\n",
            "\u001b[1m3/3\u001b[0m \u001b[32m━━━━━━━━━━━━━━━━━━━━\u001b[0m\u001b[37m\u001b[0m \u001b[1m0s\u001b[0m 28ms/step - loss: 0.8321 - mae: 0.0973 - val_loss: 0.8057 - val_mae: 0.0938\n",
            "Epoch 48/150\n",
            "\u001b[1m3/3\u001b[0m \u001b[32m━━━━━━━━━━━━━━━━━━━━\u001b[0m\u001b[37m\u001b[0m \u001b[1m0s\u001b[0m 32ms/step - loss: 0.8155 - mae: 0.1096 - val_loss: 0.7851 - val_mae: 0.0952\n",
            "Epoch 49/150\n",
            "\u001b[1m3/3\u001b[0m \u001b[32m━━━━━━━━━━━━━━━━━━━━\u001b[0m\u001b[37m\u001b[0m \u001b[1m0s\u001b[0m 29ms/step - loss: 0.7829 - mae: 0.0856 - val_loss: 0.7650 - val_mae: 0.0963\n",
            "Epoch 50/150\n",
            "\u001b[1m3/3\u001b[0m \u001b[32m━━━━━━━━━━━━━━━━━━━━\u001b[0m\u001b[37m\u001b[0m \u001b[1m0s\u001b[0m 30ms/step - loss: 0.7675 - mae: 0.1053 - val_loss: 0.7453 - val_mae: 0.0962\n",
            "Epoch 51/150\n",
            "\u001b[1m3/3\u001b[0m \u001b[32m━━━━━━━━━━━━━━━━━━━━\u001b[0m\u001b[37m\u001b[0m \u001b[1m0s\u001b[0m 30ms/step - loss: 0.7445 - mae: 0.0889 - val_loss: 0.7263 - val_mae: 0.0965\n",
            "Epoch 52/150\n",
            "\u001b[1m3/3\u001b[0m \u001b[32m━━━━━━━━━━━━━━━━━━━━\u001b[0m\u001b[37m\u001b[0m \u001b[1m0s\u001b[0m 33ms/step - loss: 0.7252 - mae: 0.0929 - val_loss: 0.7078 - val_mae: 0.0971\n",
            "Epoch 53/150\n",
            "\u001b[1m3/3\u001b[0m \u001b[32m━━━━━━━━━━━━━━━━━━━━\u001b[0m\u001b[37m\u001b[0m \u001b[1m0s\u001b[0m 31ms/step - loss: 0.7080 - mae: 0.0915 - val_loss: 0.6899 - val_mae: 0.0984\n",
            "Epoch 54/150\n",
            "\u001b[1m3/3\u001b[0m \u001b[32m━━━━━━━━━━━━━━━━━━━━\u001b[0m\u001b[37m\u001b[0m \u001b[1m0s\u001b[0m 34ms/step - loss: 0.6906 - mae: 0.0926 - val_loss: 0.6724 - val_mae: 0.0998\n",
            "Epoch 55/150\n",
            "\u001b[1m3/3\u001b[0m \u001b[32m━━━━━━━━━━━━━━━━━━━━\u001b[0m\u001b[37m\u001b[0m \u001b[1m0s\u001b[0m 31ms/step - loss: 0.6729 - mae: 0.0959 - val_loss: 0.6555 - val_mae: 0.1021\n",
            "Epoch 56/150\n",
            "\u001b[1m3/3\u001b[0m \u001b[32m━━━━━━━━━━━━━━━━━━━━\u001b[0m\u001b[37m\u001b[0m \u001b[1m0s\u001b[0m 29ms/step - loss: 0.6556 - mae: 0.1080 - val_loss: 0.6391 - val_mae: 0.1042\n",
            "Epoch 57/150\n",
            "\u001b[1m3/3\u001b[0m \u001b[32m━━━━━━━━━━━━━━━━━━━━\u001b[0m\u001b[37m\u001b[0m \u001b[1m0s\u001b[0m 31ms/step - loss: 0.6344 - mae: 0.0767 - val_loss: 0.6229 - val_mae: 0.1045\n",
            "Epoch 58/150\n",
            "\u001b[1m3/3\u001b[0m \u001b[32m━━━━━━━━━━━━━━━━━━━━\u001b[0m\u001b[37m\u001b[0m \u001b[1m0s\u001b[0m 29ms/step - loss: 0.6200 - mae: 0.0943 - val_loss: 0.6071 - val_mae: 0.1045\n",
            "Epoch 59/150\n",
            "\u001b[1m3/3\u001b[0m \u001b[32m━━━━━━━━━━━━━━━━━━━━\u001b[0m\u001b[37m\u001b[0m \u001b[1m0s\u001b[0m 28ms/step - loss: 0.5998 - mae: 0.0812 - val_loss: 0.5917 - val_mae: 0.1051\n",
            "Epoch 60/150\n",
            "\u001b[1m3/3\u001b[0m \u001b[32m━━━━━━━━━━━━━━━━━━━━\u001b[0m\u001b[37m\u001b[0m \u001b[1m0s\u001b[0m 28ms/step - loss: 0.5887 - mae: 0.0942 - val_loss: 0.5769 - val_mae: 0.1063\n",
            "Epoch 61/150\n",
            "\u001b[1m3/3\u001b[0m \u001b[32m━━━━━━━━━━━━━━━━━━━━\u001b[0m\u001b[37m\u001b[0m \u001b[1m0s\u001b[0m 35ms/step - loss: 0.5719 - mae: 0.0883 - val_loss: 0.5624 - val_mae: 0.1069\n",
            "Epoch 62/150\n",
            "\u001b[1m3/3\u001b[0m \u001b[32m━━━━━━━━━━━━━━━━━━━━\u001b[0m\u001b[37m\u001b[0m \u001b[1m0s\u001b[0m 36ms/step - loss: 0.5638 - mae: 0.1147 - val_loss: 0.5483 - val_mae: 0.1075\n",
            "Epoch 63/150\n",
            "\u001b[1m3/3\u001b[0m \u001b[32m━━━━━━━━━━━━━━━━━━━━\u001b[0m\u001b[37m\u001b[0m \u001b[1m0s\u001b[0m 30ms/step - loss: 0.5394 - mae: 0.0743 - val_loss: 0.5345 - val_mae: 0.1078\n",
            "Epoch 64/150\n",
            "\u001b[1m3/3\u001b[0m \u001b[32m━━━━━━━━━━━━━━━━━━━━\u001b[0m\u001b[37m\u001b[0m \u001b[1m0s\u001b[0m 30ms/step - loss: 0.5348 - mae: 0.1057 - val_loss: 0.5211 - val_mae: 0.1076\n",
            "Epoch 65/150\n",
            "\u001b[1m3/3\u001b[0m \u001b[32m━━━━━━━━━━━━━━━━━━━━\u001b[0m\u001b[37m\u001b[0m \u001b[1m0s\u001b[0m 31ms/step - loss: 0.5225 - mae: 0.0958 - val_loss: 0.5081 - val_mae: 0.1078\n",
            "Epoch 66/150\n",
            "\u001b[1m3/3\u001b[0m \u001b[32m━━━━━━━━━━━━━━━━━━━━\u001b[0m\u001b[37m\u001b[0m \u001b[1m0s\u001b[0m 30ms/step - loss: 0.5056 - mae: 0.1066 - val_loss: 0.4954 - val_mae: 0.1084\n",
            "Epoch 67/150\n",
            "\u001b[1m3/3\u001b[0m \u001b[32m━━━━━━━━━━━━━━━━━━━━\u001b[0m\u001b[37m\u001b[0m \u001b[1m0s\u001b[0m 29ms/step - loss: 0.4921 - mae: 0.0964 - val_loss: 0.4833 - val_mae: 0.1099\n",
            "Epoch 68/150\n",
            "\u001b[1m3/3\u001b[0m \u001b[32m━━━━━━━━━━━━━━━━━━━━\u001b[0m\u001b[37m\u001b[0m \u001b[1m0s\u001b[0m 30ms/step - loss: 0.4780 - mae: 0.0896 - val_loss: 0.4714 - val_mae: 0.1112\n",
            "Epoch 69/150\n",
            "\u001b[1m3/3\u001b[0m \u001b[32m━━━━━━━━━━━━━━━━━━━━\u001b[0m\u001b[37m\u001b[0m \u001b[1m0s\u001b[0m 51ms/step - loss: 0.4765 - mae: 0.1239 - val_loss: 0.4597 - val_mae: 0.1107\n",
            "Epoch 70/150\n",
            "\u001b[1m3/3\u001b[0m \u001b[32m━━━━━━━━━━━━━━━━━━━━\u001b[0m\u001b[37m\u001b[0m \u001b[1m0s\u001b[0m 35ms/step - loss: 0.4503 - mae: 0.0717 - val_loss: 0.4483 - val_mae: 0.1109\n",
            "Epoch 71/150\n",
            "\u001b[1m3/3\u001b[0m \u001b[32m━━━━━━━━━━━━━━━━━━━━\u001b[0m\u001b[37m\u001b[0m \u001b[1m0s\u001b[0m 31ms/step - loss: 0.4461 - mae: 0.1022 - val_loss: 0.4372 - val_mae: 0.1115\n",
            "Epoch 72/150\n",
            "\u001b[1m3/3\u001b[0m \u001b[32m━━━━━━━━━━━━━━━━━━━━\u001b[0m\u001b[37m\u001b[0m \u001b[1m0s\u001b[0m 31ms/step - loss: 0.4293 - mae: 0.0814 - val_loss: 0.4266 - val_mae: 0.1125\n",
            "Epoch 73/150\n",
            "\u001b[1m3/3\u001b[0m \u001b[32m━━━━━━━━━━━━━━━━━━━━\u001b[0m\u001b[37m\u001b[0m \u001b[1m0s\u001b[0m 31ms/step - loss: 0.4174 - mae: 0.0701 - val_loss: 0.4163 - val_mae: 0.1135\n",
            "Epoch 74/150\n",
            "\u001b[1m3/3\u001b[0m \u001b[32m━━━━━━━━━━━━━━━━━━━━\u001b[0m\u001b[37m\u001b[0m \u001b[1m0s\u001b[0m 30ms/step - loss: 0.4160 - mae: 0.1063 - val_loss: 0.4062 - val_mae: 0.1143\n",
            "Epoch 75/150\n",
            "\u001b[1m3/3\u001b[0m \u001b[32m━━━━━━━━━━━━━━━━━━━━\u001b[0m\u001b[37m\u001b[0m \u001b[1m0s\u001b[0m 29ms/step - loss: 0.3953 - mae: 0.0705 - val_loss: 0.3965 - val_mae: 0.1150\n",
            "Epoch 76/150\n",
            "\u001b[1m3/3\u001b[0m \u001b[32m━━━━━━━━━━━━━━━━━━━━\u001b[0m\u001b[37m\u001b[0m \u001b[1m0s\u001b[0m 28ms/step - loss: 0.3929 - mae: 0.0865 - val_loss: 0.3872 - val_mae: 0.1160\n",
            "Epoch 77/150\n",
            "\u001b[1m3/3\u001b[0m \u001b[32m━━━━━━━━━━━━━━━━━━━━\u001b[0m\u001b[37m\u001b[0m \u001b[1m0s\u001b[0m 30ms/step - loss: 0.3801 - mae: 0.0836 - val_loss: 0.3780 - val_mae: 0.1169\n",
            "Epoch 78/150\n",
            "\u001b[1m3/3\u001b[0m \u001b[32m━━━━━━━━━━━━━━━━━━━━\u001b[0m\u001b[37m\u001b[0m \u001b[1m0s\u001b[0m 59ms/step - loss: 0.3695 - mae: 0.0788 - val_loss: 0.3690 - val_mae: 0.1173\n",
            "Epoch 79/150\n",
            "\u001b[1m3/3\u001b[0m \u001b[32m━━━━━━━━━━━━━━━━━━━━\u001b[0m\u001b[37m\u001b[0m \u001b[1m0s\u001b[0m 31ms/step - loss: 0.3699 - mae: 0.1060 - val_loss: 0.3600 - val_mae: 0.1177\n",
            "Epoch 80/150\n",
            "\u001b[1m3/3\u001b[0m \u001b[32m━━━━━━━━━━━━━━━━━━━━\u001b[0m\u001b[37m\u001b[0m \u001b[1m0s\u001b[0m 28ms/step - loss: 0.3521 - mae: 0.0880 - val_loss: 0.3514 - val_mae: 0.1183\n",
            "Epoch 81/150\n",
            "\u001b[1m3/3\u001b[0m \u001b[32m━━━━━━━━━━━━━━━━━━━━\u001b[0m\u001b[37m\u001b[0m \u001b[1m0s\u001b[0m 30ms/step - loss: 0.3423 - mae: 0.0776 - val_loss: 0.3430 - val_mae: 0.1190\n",
            "Epoch 82/150\n",
            "\u001b[1m3/3\u001b[0m \u001b[32m━━━━━━━━━━━━━━━━━━━━\u001b[0m\u001b[37m\u001b[0m \u001b[1m0s\u001b[0m 30ms/step - loss: 0.3316 - mae: 0.0682 - val_loss: 0.3349 - val_mae: 0.1196\n",
            "Epoch 83/150\n",
            "\u001b[1m3/3\u001b[0m \u001b[32m━━━━━━━━━━━━━━━━━━━━\u001b[0m\u001b[37m\u001b[0m \u001b[1m0s\u001b[0m 30ms/step - loss: 0.3281 - mae: 0.0988 - val_loss: 0.3271 - val_mae: 0.1203\n",
            "Epoch 84/150\n",
            "\u001b[1m3/3\u001b[0m \u001b[32m━━━━━━━━━━━━━━━━━━━━\u001b[0m\u001b[37m\u001b[0m \u001b[1m0s\u001b[0m 28ms/step - loss: 0.3192 - mae: 0.0958 - val_loss: 0.3195 - val_mae: 0.1209\n",
            "Epoch 85/150\n",
            "\u001b[1m3/3\u001b[0m \u001b[32m━━━━━━━━━━━━━━━━━━━━\u001b[0m\u001b[37m\u001b[0m \u001b[1m0s\u001b[0m 64ms/step - loss: 0.3098 - mae: 0.0874 - val_loss: 0.3121 - val_mae: 0.1214\n",
            "Epoch 86/150\n",
            "\u001b[1m3/3\u001b[0m \u001b[32m━━━━━━━━━━━━━━━━━━━━\u001b[0m\u001b[37m\u001b[0m \u001b[1m0s\u001b[0m 59ms/step - loss: 0.2984 - mae: 0.0615 - val_loss: 0.3048 - val_mae: 0.1218\n",
            "Epoch 87/150\n",
            "\u001b[1m3/3\u001b[0m \u001b[32m━━━━━━━━━━━━━━━━━━━━\u001b[0m\u001b[37m\u001b[0m \u001b[1m0s\u001b[0m 66ms/step - loss: 0.2965 - mae: 0.0870 - val_loss: 0.2978 - val_mae: 0.1221\n",
            "Epoch 88/150\n",
            "\u001b[1m3/3\u001b[0m \u001b[32m━━━━━━━━━━━━━━━━━━━━\u001b[0m\u001b[37m\u001b[0m \u001b[1m0s\u001b[0m 60ms/step - loss: 0.2826 - mae: 0.0564 - val_loss: 0.2909 - val_mae: 0.1225\n",
            "Epoch 89/150\n",
            "\u001b[1m3/3\u001b[0m \u001b[32m━━━━━━━━━━━━━━━━━━━━\u001b[0m\u001b[37m\u001b[0m \u001b[1m0s\u001b[0m 58ms/step - loss: 0.2825 - mae: 0.0911 - val_loss: 0.2843 - val_mae: 0.1230\n",
            "Epoch 90/150\n",
            "\u001b[1m3/3\u001b[0m \u001b[32m━━━━━━━━━━━━━━━━━━━━\u001b[0m\u001b[37m\u001b[0m \u001b[1m0s\u001b[0m 71ms/step - loss: 0.2754 - mae: 0.0765 - val_loss: 0.2779 - val_mae: 0.1236\n",
            "Epoch 91/150\n",
            "\u001b[1m3/3\u001b[0m \u001b[32m━━━━━━━━━━━━━━━━━━━━\u001b[0m\u001b[37m\u001b[0m \u001b[1m0s\u001b[0m 69ms/step - loss: 0.2709 - mae: 0.0891 - val_loss: 0.2716 - val_mae: 0.1243\n",
            "Epoch 92/150\n",
            "\u001b[1m3/3\u001b[0m \u001b[32m━━━━━━━━━━━━━━━━━━━━\u001b[0m\u001b[37m\u001b[0m \u001b[1m0s\u001b[0m 124ms/step - loss: 0.2746 - mae: 0.1260 - val_loss: 0.2656 - val_mae: 0.1250\n",
            "Epoch 93/150\n",
            "\u001b[1m3/3\u001b[0m \u001b[32m━━━━━━━━━━━━━━━━━━━━\u001b[0m\u001b[37m\u001b[0m \u001b[1m1s\u001b[0m 78ms/step - loss: 0.2549 - mae: 0.0836 - val_loss: 0.2597 - val_mae: 0.1258\n",
            "Epoch 94/150\n",
            "\u001b[1m3/3\u001b[0m \u001b[32m━━━━━━━━━━━━━━━━━━━━\u001b[0m\u001b[37m\u001b[0m \u001b[1m0s\u001b[0m 32ms/step - loss: 0.2612 - mae: 0.1034 - val_loss: 0.2541 - val_mae: 0.1265\n",
            "Epoch 95/150\n",
            "\u001b[1m3/3\u001b[0m \u001b[32m━━━━━━━━━━━━━━━━━━━━\u001b[0m\u001b[37m\u001b[0m \u001b[1m0s\u001b[0m 33ms/step - loss: 0.2498 - mae: 0.1124 - val_loss: 0.2485 - val_mae: 0.1272\n",
            "Epoch 96/150\n",
            "\u001b[1m3/3\u001b[0m \u001b[32m━━━━━━━━━━━━━━━━━━━━\u001b[0m\u001b[37m\u001b[0m \u001b[1m0s\u001b[0m 28ms/step - loss: 0.2459 - mae: 0.1156 - val_loss: 0.2431 - val_mae: 0.1278\n",
            "Epoch 97/150\n",
            "\u001b[1m3/3\u001b[0m \u001b[32m━━━━━━━━━━━━━━━━━━━━\u001b[0m\u001b[37m\u001b[0m \u001b[1m0s\u001b[0m 29ms/step - loss: 0.2374 - mae: 0.1037 - val_loss: 0.2378 - val_mae: 0.1283\n",
            "Epoch 98/150\n",
            "\u001b[1m3/3\u001b[0m \u001b[32m━━━━━━━━━━━━━━━━━━━━\u001b[0m\u001b[37m\u001b[0m \u001b[1m0s\u001b[0m 31ms/step - loss: 0.2290 - mae: 0.0984 - val_loss: 0.2326 - val_mae: 0.1287\n",
            "Epoch 99/150\n",
            "\u001b[1m3/3\u001b[0m \u001b[32m━━━━━━━━━━━━━━━━━━━━\u001b[0m\u001b[37m\u001b[0m \u001b[1m0s\u001b[0m 30ms/step - loss: 0.2213 - mae: 0.0939 - val_loss: 0.2275 - val_mae: 0.1292\n",
            "Epoch 100/150\n",
            "\u001b[1m3/3\u001b[0m \u001b[32m━━━━━━━━━━━━━━━━━━━━\u001b[0m\u001b[37m\u001b[0m \u001b[1m0s\u001b[0m 36ms/step - loss: 0.2177 - mae: 0.0777 - val_loss: 0.2226 - val_mae: 0.1298\n",
            "Epoch 101/150\n",
            "\u001b[1m3/3\u001b[0m \u001b[32m━━━━━━━━━━━━━━━━━━━━\u001b[0m\u001b[37m\u001b[0m \u001b[1m0s\u001b[0m 29ms/step - loss: 0.2089 - mae: 0.0738 - val_loss: 0.2178 - val_mae: 0.1304\n",
            "Epoch 102/150\n",
            "\u001b[1m3/3\u001b[0m \u001b[32m━━━━━━━━━━━━━━━━━━━━\u001b[0m\u001b[37m\u001b[0m \u001b[1m0s\u001b[0m 30ms/step - loss: 0.2080 - mae: 0.0869 - val_loss: 0.2132 - val_mae: 0.1309\n",
            "Epoch 103/150\n",
            "\u001b[1m3/3\u001b[0m \u001b[32m━━━━━━━━━━━━━━━━━━━━\u001b[0m\u001b[37m\u001b[0m \u001b[1m0s\u001b[0m 30ms/step - loss: 0.2060 - mae: 0.1043 - val_loss: 0.2087 - val_mae: 0.1314\n",
            "Epoch 104/150\n",
            "\u001b[1m3/3\u001b[0m \u001b[32m━━━━━━━━━━━━━━━━━━━━\u001b[0m\u001b[37m\u001b[0m \u001b[1m0s\u001b[0m 29ms/step - loss: 0.1975 - mae: 0.0926 - val_loss: 0.2043 - val_mae: 0.1319\n",
            "Epoch 105/150\n",
            "\u001b[1m3/3\u001b[0m \u001b[32m━━━━━━━━━━━━━━━━━━━━\u001b[0m\u001b[37m\u001b[0m \u001b[1m0s\u001b[0m 30ms/step - loss: 0.1928 - mae: 0.0915 - val_loss: 0.2000 - val_mae: 0.1323\n",
            "Epoch 106/150\n",
            "\u001b[1m3/3\u001b[0m \u001b[32m━━━━━━━━━━━━━━━━━━━━\u001b[0m\u001b[37m\u001b[0m \u001b[1m0s\u001b[0m 30ms/step - loss: 0.1830 - mae: 0.0659 - val_loss: 0.1958 - val_mae: 0.1328\n",
            "Epoch 107/150\n",
            "\u001b[1m3/3\u001b[0m \u001b[32m━━━━━━━━━━━━━━━━━━━━\u001b[0m\u001b[37m\u001b[0m \u001b[1m0s\u001b[0m 28ms/step - loss: 0.1852 - mae: 0.0928 - val_loss: 0.1918 - val_mae: 0.1333\n",
            "Epoch 108/150\n",
            "\u001b[1m3/3\u001b[0m \u001b[32m━━━━━━━━━━━━━━━━━━━━\u001b[0m\u001b[37m\u001b[0m \u001b[1m0s\u001b[0m 35ms/step - loss: 0.1776 - mae: 0.0784 - val_loss: 0.1879 - val_mae: 0.1337\n",
            "Epoch 109/150\n",
            "\u001b[1m3/3\u001b[0m \u001b[32m━━━━━━━━━━━━━━━━━━━━\u001b[0m\u001b[37m\u001b[0m \u001b[1m0s\u001b[0m 35ms/step - loss: 0.1726 - mae: 0.0706 - val_loss: 0.1842 - val_mae: 0.1342\n",
            "Epoch 110/150\n",
            "\u001b[1m3/3\u001b[0m \u001b[32m━━━━━━━━━━━━━━━━━━━━\u001b[0m\u001b[37m\u001b[0m \u001b[1m0s\u001b[0m 30ms/step - loss: 0.1709 - mae: 0.0845 - val_loss: 0.1807 - val_mae: 0.1346\n",
            "Epoch 111/150\n",
            "\u001b[1m3/3\u001b[0m \u001b[32m━━━━━━━━━━━━━━━━━━━━\u001b[0m\u001b[37m\u001b[0m \u001b[1m0s\u001b[0m 28ms/step - loss: 0.1649 - mae: 0.0729 - val_loss: 0.1772 - val_mae: 0.1350\n",
            "Epoch 112/150\n",
            "\u001b[1m3/3\u001b[0m \u001b[32m━━━━━━━━━━━━━━━━━━━━\u001b[0m\u001b[37m\u001b[0m \u001b[1m0s\u001b[0m 30ms/step - loss: 0.1684 - mae: 0.0959 - val_loss: 0.1738 - val_mae: 0.1354\n",
            "Epoch 113/150\n",
            "\u001b[1m3/3\u001b[0m \u001b[32m━━━━━━━━━━━━━━━━━━━━\u001b[0m\u001b[37m\u001b[0m \u001b[1m0s\u001b[0m 29ms/step - loss: 0.1677 - mae: 0.1081 - val_loss: 0.1704 - val_mae: 0.1358\n",
            "Epoch 114/150\n",
            "\u001b[1m3/3\u001b[0m \u001b[32m━━━━━━━━━━━━━━━━━━━━\u001b[0m\u001b[37m\u001b[0m \u001b[1m0s\u001b[0m 28ms/step - loss: 0.1597 - mae: 0.0949 - val_loss: 0.1670 - val_mae: 0.1362\n",
            "Epoch 115/150\n",
            "\u001b[1m3/3\u001b[0m \u001b[32m━━━━━━━━━━━━━━━━━━━━\u001b[0m\u001b[37m\u001b[0m \u001b[1m0s\u001b[0m 28ms/step - loss: 0.1543 - mae: 0.0956 - val_loss: 0.1638 - val_mae: 0.1365\n",
            "Epoch 116/150\n",
            "\u001b[1m3/3\u001b[0m \u001b[32m━━━━━━━━━━━━━━━━━━━━\u001b[0m\u001b[37m\u001b[0m \u001b[1m0s\u001b[0m 29ms/step - loss: 0.1488 - mae: 0.0863 - val_loss: 0.1606 - val_mae: 0.1368\n",
            "Epoch 117/150\n",
            "\u001b[1m3/3\u001b[0m \u001b[32m━━━━━━━━━━━━━━━━━━━━\u001b[0m\u001b[37m\u001b[0m \u001b[1m0s\u001b[0m 31ms/step - loss: 0.1465 - mae: 0.0858 - val_loss: 0.1573 - val_mae: 0.1371\n",
            "Epoch 118/150\n",
            "\u001b[1m3/3\u001b[0m \u001b[32m━━━━━━━━━━━━━━━━━━━━\u001b[0m\u001b[37m\u001b[0m \u001b[1m0s\u001b[0m 54ms/step - loss: 0.1462 - mae: 0.0971 - val_loss: 0.1541 - val_mae: 0.1374\n",
            "Epoch 119/150\n",
            "\u001b[1m3/3\u001b[0m \u001b[32m━━━━━━━━━━━━━━━━━━━━\u001b[0m\u001b[37m\u001b[0m \u001b[1m0s\u001b[0m 31ms/step - loss: 0.1389 - mae: 0.0756 - val_loss: 0.1511 - val_mae: 0.1376\n",
            "Epoch 120/150\n",
            "\u001b[1m3/3\u001b[0m \u001b[32m━━━━━━━━━━━━━━━━━━━━\u001b[0m\u001b[37m\u001b[0m \u001b[1m0s\u001b[0m 29ms/step - loss: 0.1402 - mae: 0.0908 - val_loss: 0.1481 - val_mae: 0.1378\n",
            "Epoch 121/150\n",
            "\u001b[1m3/3\u001b[0m \u001b[32m━━━━━━━━━━━━━━━━━━━━\u001b[0m\u001b[37m\u001b[0m \u001b[1m0s\u001b[0m 28ms/step - loss: 0.1413 - mae: 0.1133 - val_loss: 0.1452 - val_mae: 0.1380\n",
            "Epoch 122/150\n",
            "\u001b[1m3/3\u001b[0m \u001b[32m━━━━━━━━━━━━━━━━━━━━\u001b[0m\u001b[37m\u001b[0m \u001b[1m0s\u001b[0m 30ms/step - loss: 0.1326 - mae: 0.0969 - val_loss: 0.1423 - val_mae: 0.1382\n",
            "Epoch 123/150\n",
            "\u001b[1m3/3\u001b[0m \u001b[32m━━━━━━━━━━━━━━━━━━━━\u001b[0m\u001b[37m\u001b[0m \u001b[1m0s\u001b[0m 30ms/step - loss: 0.1314 - mae: 0.0907 - val_loss: 0.1396 - val_mae: 0.1385\n",
            "Epoch 124/150\n",
            "\u001b[1m3/3\u001b[0m \u001b[32m━━━━━━━━━━━━━━━━━━━━\u001b[0m\u001b[37m\u001b[0m \u001b[1m0s\u001b[0m 31ms/step - loss: 0.1328 - mae: 0.1097 - val_loss: 0.1370 - val_mae: 0.1387\n",
            "Epoch 125/150\n",
            "\u001b[1m3/3\u001b[0m \u001b[32m━━━━━━━━━━━━━━━━━━━━\u001b[0m\u001b[37m\u001b[0m \u001b[1m0s\u001b[0m 31ms/step - loss: 0.1240 - mae: 0.0940 - val_loss: 0.1344 - val_mae: 0.1389\n",
            "Epoch 126/150\n",
            "\u001b[1m3/3\u001b[0m \u001b[32m━━━━━━━━━━━━━━━━━━━━\u001b[0m\u001b[37m\u001b[0m \u001b[1m0s\u001b[0m 30ms/step - loss: 0.1228 - mae: 0.0887 - val_loss: 0.1320 - val_mae: 0.1392\n",
            "Epoch 127/150\n",
            "\u001b[1m3/3\u001b[0m \u001b[32m━━━━━━━━━━━━━━━━━━━━\u001b[0m\u001b[37m\u001b[0m \u001b[1m0s\u001b[0m 30ms/step - loss: 0.1159 - mae: 0.0817 - val_loss: 0.1295 - val_mae: 0.1394\n",
            "Epoch 128/150\n",
            "\u001b[1m3/3\u001b[0m \u001b[32m━━━━━━━━━━━━━━━━━━━━\u001b[0m\u001b[37m\u001b[0m \u001b[1m0s\u001b[0m 29ms/step - loss: 0.1176 - mae: 0.0924 - val_loss: 0.1272 - val_mae: 0.1396\n",
            "Epoch 129/150\n",
            "\u001b[1m3/3\u001b[0m \u001b[32m━━━━━━━━━━━━━━━━━━━━\u001b[0m\u001b[37m\u001b[0m \u001b[1m0s\u001b[0m 30ms/step - loss: 0.1133 - mae: 0.0935 - val_loss: 0.1249 - val_mae: 0.1398\n",
            "Epoch 130/150\n",
            "\u001b[1m3/3\u001b[0m \u001b[32m━━━━━━━━━━━━━━━━━━━━\u001b[0m\u001b[37m\u001b[0m \u001b[1m0s\u001b[0m 30ms/step - loss: 0.1108 - mae: 0.0816 - val_loss: 0.1226 - val_mae: 0.1400\n",
            "Epoch 131/150\n",
            "\u001b[1m3/3\u001b[0m \u001b[32m━━━━━━━━━━━━━━━━━━━━\u001b[0m\u001b[37m\u001b[0m \u001b[1m0s\u001b[0m 30ms/step - loss: 0.1027 - mae: 0.0638 - val_loss: 0.1204 - val_mae: 0.1402\n",
            "Epoch 132/150\n",
            "\u001b[1m3/3\u001b[0m \u001b[32m━━━━━━━━━━━━━━━━━━━━\u001b[0m\u001b[37m\u001b[0m \u001b[1m0s\u001b[0m 28ms/step - loss: 0.1070 - mae: 0.0862 - val_loss: 0.1183 - val_mae: 0.1404\n",
            "Epoch 133/150\n",
            "\u001b[1m3/3\u001b[0m \u001b[32m━━━━━━━━━━━━━━━━━━━━\u001b[0m\u001b[37m\u001b[0m \u001b[1m0s\u001b[0m 32ms/step - loss: 0.1046 - mae: 0.0919 - val_loss: 0.1162 - val_mae: 0.1406\n",
            "Epoch 134/150\n",
            "\u001b[1m3/3\u001b[0m \u001b[32m━━━━━━━━━━━━━━━━━━━━\u001b[0m\u001b[37m\u001b[0m \u001b[1m0s\u001b[0m 57ms/step - loss: 0.1102 - mae: 0.1197 - val_loss: 0.1142 - val_mae: 0.1407\n",
            "Epoch 135/150\n",
            "\u001b[1m3/3\u001b[0m \u001b[32m━━━━━━━━━━━━━━━━━━━━\u001b[0m\u001b[37m\u001b[0m \u001b[1m0s\u001b[0m 37ms/step - loss: 0.1022 - mae: 0.0975 - val_loss: 0.1122 - val_mae: 0.1409\n",
            "Epoch 136/150\n",
            "\u001b[1m3/3\u001b[0m \u001b[32m━━━━━━━━━━━━━━━━━━━━\u001b[0m\u001b[37m\u001b[0m \u001b[1m0s\u001b[0m 31ms/step - loss: 0.0986 - mae: 0.0875 - val_loss: 0.1103 - val_mae: 0.1411\n",
            "Epoch 137/150\n",
            "\u001b[1m3/3\u001b[0m \u001b[32m━━━━━━━━━━━━━━━━━━━━\u001b[0m\u001b[37m\u001b[0m \u001b[1m0s\u001b[0m 30ms/step - loss: 0.0988 - mae: 0.0993 - val_loss: 0.1086 - val_mae: 0.1412\n",
            "Epoch 138/150\n",
            "\u001b[1m3/3\u001b[0m \u001b[32m━━━━━━━━━━━━━━━━━━━━\u001b[0m\u001b[37m\u001b[0m \u001b[1m0s\u001b[0m 31ms/step - loss: 0.0880 - mae: 0.0585 - val_loss: 0.1068 - val_mae: 0.1414\n",
            "Epoch 139/150\n",
            "\u001b[1m3/3\u001b[0m \u001b[32m━━━━━━━━━━━━━━━━━━━━\u001b[0m\u001b[37m\u001b[0m \u001b[1m0s\u001b[0m 34ms/step - loss: 0.0940 - mae: 0.0967 - val_loss: 0.1051 - val_mae: 0.1415\n",
            "Epoch 140/150\n",
            "\u001b[1m3/3\u001b[0m \u001b[32m━━━━━━━━━━━━━━━━━━━━\u001b[0m\u001b[37m\u001b[0m \u001b[1m0s\u001b[0m 29ms/step - loss: 0.0966 - mae: 0.1089 - val_loss: 0.1033 - val_mae: 0.1416\n",
            "Epoch 141/150\n",
            "\u001b[1m3/3\u001b[0m \u001b[32m━━━━━━━━━━━━━━━━━━━━\u001b[0m\u001b[37m\u001b[0m \u001b[1m0s\u001b[0m 53ms/step - loss: 0.0916 - mae: 0.0993 - val_loss: 0.1016 - val_mae: 0.1418\n",
            "Epoch 142/150\n",
            "\u001b[1m3/3\u001b[0m \u001b[32m━━━━━━━━━━━━━━━━━━━━\u001b[0m\u001b[37m\u001b[0m \u001b[1m0s\u001b[0m 32ms/step - loss: 0.0848 - mae: 0.0771 - val_loss: 0.0999 - val_mae: 0.1419\n",
            "Epoch 143/150\n",
            "\u001b[1m3/3\u001b[0m \u001b[32m━━━━━━━━━━━━━━━━━━━━\u001b[0m\u001b[37m\u001b[0m \u001b[1m0s\u001b[0m 51ms/step - loss: 0.0828 - mae: 0.0774 - val_loss: 0.0982 - val_mae: 0.1420\n",
            "Epoch 144/150\n",
            "\u001b[1m3/3\u001b[0m \u001b[32m━━━━━━━━━━━━━━━━━━━━\u001b[0m\u001b[37m\u001b[0m \u001b[1m0s\u001b[0m 29ms/step - loss: 0.0809 - mae: 0.0720 - val_loss: 0.0966 - val_mae: 0.1421\n",
            "Epoch 145/150\n",
            "\u001b[1m3/3\u001b[0m \u001b[32m━━━━━━━━━━━━━━━━━━━━\u001b[0m\u001b[37m\u001b[0m \u001b[1m0s\u001b[0m 30ms/step - loss: 0.0824 - mae: 0.0948 - val_loss: 0.0949 - val_mae: 0.1422\n",
            "Epoch 146/150\n",
            "\u001b[1m3/3\u001b[0m \u001b[32m━━━━━━━━━━━━━━━━━━━━\u001b[0m\u001b[37m\u001b[0m \u001b[1m0s\u001b[0m 32ms/step - loss: 0.0841 - mae: 0.1057 - val_loss: 0.0933 - val_mae: 0.1423\n",
            "Epoch 147/150\n",
            "\u001b[1m3/3\u001b[0m \u001b[32m━━━━━━━━━━━━━━━━━━━━\u001b[0m\u001b[37m\u001b[0m \u001b[1m0s\u001b[0m 35ms/step - loss: 0.0747 - mae: 0.0706 - val_loss: 0.0918 - val_mae: 0.1424\n",
            "Epoch 148/150\n",
            "\u001b[1m3/3\u001b[0m \u001b[32m━━━━━━━━━━━━━━━━━━━━\u001b[0m\u001b[37m\u001b[0m \u001b[1m0s\u001b[0m 30ms/step - loss: 0.0775 - mae: 0.0920 - val_loss: 0.0904 - val_mae: 0.1424\n",
            "Epoch 149/150\n",
            "\u001b[1m3/3\u001b[0m \u001b[32m━━━━━━━━━━━━━━━━━━━━\u001b[0m\u001b[37m\u001b[0m \u001b[1m0s\u001b[0m 31ms/step - loss: 0.0766 - mae: 0.0963 - val_loss: 0.0890 - val_mae: 0.1425\n",
            "Epoch 150/150\n",
            "\u001b[1m3/3\u001b[0m \u001b[32m━━━━━━━━━━━━━━━━━━━━\u001b[0m\u001b[37m\u001b[0m \u001b[1m0s\u001b[0m 59ms/step - loss: 0.0754 - mae: 0.0859 - val_loss: 0.0876 - val_mae: 0.1426\n",
            "\u001b[1m1/1\u001b[0m \u001b[32m━━━━━━━━━━━━━━━━━━━━\u001b[0m\u001b[37m\u001b[0m \u001b[1m0s\u001b[0m 232ms/step\n",
            "Mean Absolute Error (MAE): 0.1426\n",
            "Mean Squared Error (MSE): 0.0262\n",
            "Categorical Classification Accuracy: 0.1667\n",
            "Predicted HSS: 0.4397, Actual HSS: 0.2591, Predicted Category: Moderate Susceptibility, Actual Category: Low Susceptibility\n",
            "Predicted HSS: 0.4435, Actual HSS: 0.7085, Predicted Category: Moderate Susceptibility, Actual Category: Very High Susceptibility\n",
            "Predicted HSS: 0.4397, Actual HSS: 0.2500, Predicted Category: Moderate Susceptibility, Actual Category: Low Susceptibility\n",
            "Predicted HSS: 0.4414, Actual HSS: 0.5179, Predicted Category: Moderate Susceptibility, Actual Category: High Susceptibility\n",
            "Predicted HSS: 0.4423, Actual HSS: 0.5490, Predicted Category: Moderate Susceptibility, Actual Category: High Susceptibility\n"
          ]
        }
      ],
      "source": [
        "import pandas as pd\n",
        "import numpy as np\n",
        "from sklearn.model_selection import train_test_split\n",
        "from sklearn.preprocessing import StandardScaler\n",
        "from sklearn.metrics import mean_absolute_error, mean_squared_error, accuracy_score\n",
        "from tensorflow.keras.models import Sequential\n",
        "from tensorflow.keras.layers import Dense, Dropout\n",
        "from tensorflow.keras.regularizers import l2\n",
        "\n",
        "data = pd.read_csv('/content/heatwave_score.csv')\n",
        "\n",
        "data = data.drop(columns=['State', 'lat', 'lon'])\n",
        "\n",
        "X = data.drop(columns=['Heatwave Susceptiblity Score', 'Category'])\n",
        "y = data['Heatwave Susceptiblity Score']\n",
        "y_category = data['Category']\n",
        "\n",
        "scaler = StandardScaler()\n",
        "X_scaled = scaler.fit_transform(X)\n",
        "\n",
        "X_train, X_test, y_train, y_test, y_category_train, y_category_test = train_test_split(X_scaled, y, y_category, test_size=0.2, random_state=42)\n",
        "\n",
        "model = Sequential()\n",
        "\n",
        "model.add(Dense(128, input_dim=X_train.shape[1], activation='relu', kernel_regularizer=l2(0.01)))\n",
        "model.add(Dropout(0.2))\n",
        "\n",
        "\n",
        "model.add(Dense(64, activation='relu', kernel_regularizer=l2(0.01)))\n",
        "model.add(Dropout(0.2))\n",
        "\n",
        "model.add(Dense(64, activation='relu', kernel_regularizer=l2(0.01)))\n",
        "model.add(Dropout(0.2))\n",
        "\n",
        "model.add(Dense(32, activation='relu', kernel_regularizer=l2(0.01)))\n",
        "model.add(Dropout(0.2))\n",
        "\n",
        "model.add(Dense(32, activation='relu', kernel_regularizer=l2(0.01)))\n",
        "model.add(Dropout(0.2))\n",
        "\n",
        "model.add(Dense(16, activation='relu', kernel_regularizer=l2(0.01)))\n",
        "model.add(Dropout(0.2))\n",
        "\n",
        "model.add(Dense(1))\n",
        "\n",
        "model.compile(loss='mean_squared_error', optimizer='adam', metrics=['mae'])\n",
        "\n",
        "model.fit(X_train, y_train, epochs=150, batch_size=10, validation_data=(X_test, y_test))\n",
        "\n",
        "y_pred = model.predict(X_test)\n",
        "\n",
        "def classify_hss(hss):\n",
        "    if 0.00 <= hss <= 0.30:\n",
        "        return 'Low Susceptibility'\n",
        "    elif 0.31 <= hss <= 0.50:\n",
        "        return 'Moderate Susceptibility'\n",
        "    elif 0.51 <= hss <= 0.70:\n",
        "        return 'High Susceptibility'\n",
        "    elif 0.71 <= hss <= 1.00:\n",
        "        return 'Very High Susceptibility'\n",
        "    return 'Unknown'\n",
        "\n",
        "y_pred_categories = [classify_hss(score) for score in y_pred]\n",
        "\n",
        "category_accuracy = accuracy_score(y_category_test, y_pred_categories)\n",
        "\n",
        "print(f\"Mean Absolute Error (MAE): {mean_absolute_error(y_test, y_pred):.4f}\")\n",
        "print(f\"Mean Squared Error (MSE): {mean_squared_error(y_test, y_pred):.4f}\")\n",
        "print(f\"Categorical Classification Accuracy: {category_accuracy:.4f}\")\n",
        "\n",
        "for i in range(5):\n",
        "    print(f\"Predicted HSS: {y_pred[i][0]:.4f}, Actual HSS: {y_test.iloc[i]:.4f}, Predicted Category: {y_pred_categories[i]}, Actual Category: {y_category_test.iloc[i]}\")\n"
      ]
    },
    {
      "cell_type": "code",
      "source": [
        "from sklearn.ensemble import RandomForestRegressor\n",
        "from sklearn.metrics import mean_absolute_error, mean_squared_error, accuracy_score\n",
        "\n",
        "rf_model = RandomForestRegressor(n_estimators=100, random_state=42)\n",
        "rf_model.fit(X_train, y_train)\n",
        "\n",
        "y_pred_rf = rf_model.predict(X_test)\n",
        "\n",
        "y_pred_rf = np.clip(y_pred_rf, 0, 1)\n",
        "\n",
        "y_pred_categories_rf = [classify_hss(score) for score in y_pred_rf]\n",
        "\n",
        "category_accuracy_rf = accuracy_score(y_category_test, y_pred_categories_rf)\n",
        "\n",
        "print(f\"Random Forest - Mean Absolute Error (MAE): {mean_absolute_error(y_test, y_pred_rf):.4f}\")\n",
        "print(f\"Random Forest - Mean Squared Error (MSE): {mean_squared_error(y_test, y_pred_rf):.4f}\")\n",
        "print(f\"Random Forest - Categorical Classification Accuracy: {category_accuracy_rf:.4f}\")\n",
        "\n",
        "for i in range(5):\n",
        "    print(f\"Predicted HSS: {y_pred_rf[i]:.4f}, Actual HSS: {y_test.iloc[i]:.4f}, Predicted Category: {y_pred_categories_rf[i]}, Actual Category: {y_category_test.iloc[i]}\")\n"
      ],
      "metadata": {
        "colab": {
          "base_uri": "https://localhost:8080/"
        },
        "id": "QIFHxeA9lPCV",
        "outputId": "65febc09-5c8e-4ff1-9797-8fa941fa3f4d"
      },
      "execution_count": 9,
      "outputs": [
        {
          "output_type": "stream",
          "name": "stdout",
          "text": [
            "Random Forest - Mean Absolute Error (MAE): 0.1108\n",
            "Random Forest - Mean Squared Error (MSE): 0.0171\n",
            "Random Forest - Categorical Classification Accuracy: 0.3333\n",
            "Predicted HSS: 0.4339, Actual HSS: 0.2591, Predicted Category: Moderate Susceptibility, Actual Category: Low Susceptibility\n",
            "Predicted HSS: 0.5069, Actual HSS: 0.7085, Predicted Category: Unknown, Actual Category: Very High Susceptibility\n",
            "Predicted HSS: 0.4069, Actual HSS: 0.2500, Predicted Category: Moderate Susceptibility, Actual Category: Low Susceptibility\n",
            "Predicted HSS: 0.4864, Actual HSS: 0.5179, Predicted Category: Moderate Susceptibility, Actual Category: High Susceptibility\n",
            "Predicted HSS: 0.5219, Actual HSS: 0.5490, Predicted Category: High Susceptibility, Actual Category: High Susceptibility\n"
          ]
        }
      ]
    },
    {
      "cell_type": "code",
      "source": [
        "from sklearn.ensemble import GradientBoostingRegressor\n",
        "\n",
        "gb_model = GradientBoostingRegressor(n_estimators=100, learning_rate=0.1, max_depth=3, random_state=42)\n",
        "gb_model.fit(X_train, y_train)\n",
        "\n",
        "y_pred_gb = gb_model.predict(X_test)\n",
        "\n",
        "y_pred_gb = np.clip(y_pred_gb, 0, 1)\n",
        "\n",
        "y_pred_categories_gb = [classify_hss(score) for score in y_pred_gb]\n",
        "\n",
        "category_accuracy_gb = accuracy_score(y_category_test, y_pred_categories_gb)\n",
        "\n",
        "print(f\"Gradient Boosting - Mean Absolute Error (MAE): {mean_absolute_error(y_test, y_pred_gb):.4f}\")\n",
        "print(f\"Gradient Boosting - Mean Squared Error (MSE): {mean_squared_error(y_test, y_pred_gb):.4f}\")\n",
        "print(f\"Gradient Boosting - Categorical Classification Accuracy: {category_accuracy_gb:.4f}\")\n",
        "\n",
        "for i in range(5):\n",
        "    print(f\"Predicted HSS: {y_pred_gb[i]:.4f}, Actual HSS: {y_test.iloc[i]:.4f}, Predicted Category: {y_pred_categories_gb[i]}, Actual Category: {y_category_test.iloc[i]}\")\n"
      ],
      "metadata": {
        "colab": {
          "base_uri": "https://localhost:8080/"
        },
        "id": "pvfyJ-yTlSYc",
        "outputId": "588ac590-5d9b-4963-85da-c979cfdfed5d"
      },
      "execution_count": 10,
      "outputs": [
        {
          "output_type": "stream",
          "name": "stdout",
          "text": [
            "Gradient Boosting - Mean Absolute Error (MAE): 0.1255\n",
            "Gradient Boosting - Mean Squared Error (MSE): 0.0200\n",
            "Gradient Boosting - Categorical Classification Accuracy: 0.0000\n",
            "Predicted HSS: 0.4396, Actual HSS: 0.2591, Predicted Category: Moderate Susceptibility, Actual Category: Low Susceptibility\n",
            "Predicted HSS: 0.4996, Actual HSS: 0.7085, Predicted Category: Moderate Susceptibility, Actual Category: Very High Susceptibility\n",
            "Predicted HSS: 0.4109, Actual HSS: 0.2500, Predicted Category: Moderate Susceptibility, Actual Category: Low Susceptibility\n",
            "Predicted HSS: 0.4762, Actual HSS: 0.5179, Predicted Category: Moderate Susceptibility, Actual Category: High Susceptibility\n",
            "Predicted HSS: 0.5089, Actual HSS: 0.5490, Predicted Category: Unknown, Actual Category: High Susceptibility\n"
          ]
        }
      ]
    },
    {
      "cell_type": "code",
      "source": [
        "from sklearn.svm import SVR\n",
        "\n",
        "svr_model = SVR(kernel='rbf', C=100, gamma='auto', epsilon=0.1)\n",
        "svr_model.fit(X_train, y_train)\n",
        "\n",
        "y_pred_svr = svr_model.predict(X_test)\n",
        "\n",
        "y_pred_svr = np.clip(y_pred_svr, 0, 1)\n",
        "\n",
        "y_pred_categories_svr = [classify_hss(score) for score in y_pred_svr]\n",
        "\n",
        "category_accuracy_svr = accuracy_score(y_category_test, y_pred_categories_svr)\n",
        "\n",
        "print(f\"SVR - Mean Absolute Error (MAE): {mean_absolute_error(y_test, y_pred_svr):.4f}\")\n",
        "print(f\"SVR - Mean Squared Error (MSE): {mean_squared_error(y_test, y_pred_svr):.4f}\")\n",
        "print(f\"SVR - Categorical Classification Accuracy: {category_accuracy_svr:.4f}\")\n",
        "\n",
        "for i in range(5):\n",
        "    print(f\"Predicted HSS: {y_pred_svr[i]:.4f}, Actual HSS: {y_test.iloc[i]:.4f}, Predicted Category: {y_pred_categories_svr[i]}, Actual Category: {y_category_test.iloc[i]}\")\n"
      ],
      "metadata": {
        "colab": {
          "base_uri": "https://localhost:8080/"
        },
        "id": "KCOj9VoylZAi",
        "outputId": "3cd3ab6a-dd2f-4f33-ff41-79b4bf2a2748"
      },
      "execution_count": 11,
      "outputs": [
        {
          "output_type": "stream",
          "name": "stdout",
          "text": [
            "SVR - Mean Absolute Error (MAE): 0.1234\n",
            "SVR - Mean Squared Error (MSE): 0.0211\n",
            "SVR - Categorical Classification Accuracy: 0.1667\n",
            "Predicted HSS: 0.3996, Actual HSS: 0.2591, Predicted Category: Moderate Susceptibility, Actual Category: Low Susceptibility\n",
            "Predicted HSS: 0.4418, Actual HSS: 0.7085, Predicted Category: Moderate Susceptibility, Actual Category: Very High Susceptibility\n",
            "Predicted HSS: 0.4054, Actual HSS: 0.2500, Predicted Category: Moderate Susceptibility, Actual Category: Low Susceptibility\n",
            "Predicted HSS: 0.4468, Actual HSS: 0.5179, Predicted Category: Moderate Susceptibility, Actual Category: High Susceptibility\n",
            "Predicted HSS: 0.4728, Actual HSS: 0.5490, Predicted Category: Moderate Susceptibility, Actual Category: High Susceptibility\n"
          ]
        }
      ]
    },
    {
      "cell_type": "code",
      "source": [
        "import xgboost as xgb\n",
        "\n",
        "xgb_model = xgb.XGBRegressor(n_estimators=100, learning_rate=0.1, max_depth=3, random_state=42)\n",
        "xgb_model.fit(X_train, y_train)\n",
        "\n",
        "y_pred_xgb = xgb_model.predict(X_test)\n",
        "\n",
        "y_pred_xgb = np.clip(y_pred_xgb, 0, 1)\n",
        "\n",
        "y_pred_categories_xgb = [classify_hss(score) for score in y_pred_xgb]\n",
        "\n",
        "category_accuracy_xgb = accuracy_score(y_category_test, y_pred_categories_xgb)\n",
        "\n",
        "print(f\"XGBoost - Mean Absolute Error (MAE): {mean_absolute_error(y_test, y_pred_xgb):.4f}\")\n",
        "print(f\"XGBoost - Mean Squared Error (MSE): {mean_squared_error(y_test, y_pred_xgb):.4f}\")\n",
        "print(f\"XGBoost - Categorical Classification Accuracy: {category_accuracy_xgb:.4f}\")\n",
        "\n",
        "for i in range(5):\n",
        "    print(f\"Predicted HSS: {y_pred_xgb[i]:.4f}, Actual HSS: {y_test.iloc[i]:.4f}, Predicted Category: {y_pred_categories_xgb[i]}, Actual Category: {y_category_test.iloc[i]}\")\n"
      ],
      "metadata": {
        "colab": {
          "base_uri": "https://localhost:8080/"
        },
        "id": "2-7eFN3MlfA5",
        "outputId": "ab0933f6-9517-40c0-8323-0f9ffb196833"
      },
      "execution_count": 12,
      "outputs": [
        {
          "output_type": "stream",
          "name": "stdout",
          "text": [
            "XGBoost - Mean Absolute Error (MAE): 0.1044\n",
            "XGBoost - Mean Squared Error (MSE): 0.0160\n",
            "XGBoost - Categorical Classification Accuracy: 0.3333\n",
            "Predicted HSS: 0.4576, Actual HSS: 0.2591, Predicted Category: Moderate Susceptibility, Actual Category: Low Susceptibility\n",
            "Predicted HSS: 0.5364, Actual HSS: 0.7085, Predicted Category: High Susceptibility, Actual Category: Very High Susceptibility\n",
            "Predicted HSS: 0.4019, Actual HSS: 0.2500, Predicted Category: Moderate Susceptibility, Actual Category: Low Susceptibility\n",
            "Predicted HSS: 0.4727, Actual HSS: 0.5179, Predicted Category: Moderate Susceptibility, Actual Category: High Susceptibility\n",
            "Predicted HSS: 0.5205, Actual HSS: 0.5490, Predicted Category: High Susceptibility, Actual Category: High Susceptibility\n"
          ]
        }
      ]
    },
    {
      "cell_type": "code",
      "source": [
        "from sklearn.linear_model import LinearRegression\n",
        "from sklearn.metrics import mean_absolute_error, mean_squared_error, accuracy_score\n",
        "\n",
        "lr_model = LinearRegression()\n",
        "lr_model.fit(X_train, y_train)\n",
        "\n",
        "y_pred_lr = lr_model.predict(X_test)\n",
        "\n",
        "y_pred_lr = np.clip(y_pred_lr, 0, 1)\n",
        "\n",
        "y_pred_categories_lr = [classify_hss(score) for score in y_pred_lr]\n",
        "\n",
        "category_accuracy_lr = accuracy_score(y_category_test, y_pred_categories_lr)\n",
        "\n",
        "print(f\"Linear Regression - Mean Absolute Error (MAE): {mean_absolute_error(y_test, y_pred_lr):.4f}\")\n",
        "print(f\"Linear Regression - Mean Squared Error (MSE): {mean_squared_error(y_test, y_pred_lr):.4f}\")\n",
        "print(f\"Linear Regression - Categorical Classification Accuracy: {category_accuracy_lr:.4f}\")\n",
        "\n",
        "for i in range(5):\n",
        "    print(f\"Predicted HSS: {y_pred_lr[i]:.4f}, Actual HSS: {y_test.iloc[i]:.4f}, Predicted Category: {y_pred_categories_lr[i]}, Actual Category: {y_category_test.iloc[i]}\")\n"
      ],
      "metadata": {
        "colab": {
          "base_uri": "https://localhost:8080/"
        },
        "id": "zM9p5WkClkZi",
        "outputId": "c221f3be-b7e4-43e6-a006-82b55a96411a"
      },
      "execution_count": 13,
      "outputs": [
        {
          "output_type": "stream",
          "name": "stdout",
          "text": [
            "Linear Regression - Mean Absolute Error (MAE): 0.0000\n",
            "Linear Regression - Mean Squared Error (MSE): 0.0000\n",
            "Linear Regression - Categorical Classification Accuracy: 0.8333\n",
            "Predicted HSS: 0.2591, Actual HSS: 0.2591, Predicted Category: Low Susceptibility, Actual Category: Low Susceptibility\n",
            "Predicted HSS: 0.7085, Actual HSS: 0.7085, Predicted Category: Unknown, Actual Category: Very High Susceptibility\n",
            "Predicted HSS: 0.2500, Actual HSS: 0.2500, Predicted Category: Low Susceptibility, Actual Category: Low Susceptibility\n",
            "Predicted HSS: 0.5179, Actual HSS: 0.5179, Predicted Category: High Susceptibility, Actual Category: High Susceptibility\n",
            "Predicted HSS: 0.5490, Actual HSS: 0.5490, Predicted Category: High Susceptibility, Actual Category: High Susceptibility\n"
          ]
        }
      ]
    },
    {
      "cell_type": "code",
      "source": [
        "from sklearn.preprocessing import PolynomialFeatures\n",
        "from sklearn.linear_model import LinearRegression\n",
        "from sklearn.metrics import mean_absolute_error, mean_squared_error, accuracy_score\n",
        "\n",
        "degree = 3\n",
        "poly = PolynomialFeatures(degree)\n",
        "\n",
        "X_poly_train = poly.fit_transform(X_train)\n",
        "X_poly_test = poly.transform(X_test)\n",
        "\n",
        "poly_lr_model = LinearRegression()\n",
        "poly_lr_model.fit(X_poly_train, y_train)\n",
        "\n",
        "y_pred_poly = poly_lr_model.predict(X_poly_test)\n",
        "\n",
        "y_pred_poly = np.clip(y_pred_poly, 0, 1)\n",
        "\n",
        "y_pred_categories_poly = [classify_hss(score) for score in y_pred_poly]\n",
        "\n",
        "category_accuracy_poly = accuracy_score(y_category_test, y_pred_categories_poly)\n",
        "\n",
        "print(f\"Polynomial Regression - Mean Absolute Error (MAE): {mean_absolute_error(y_test, y_pred_poly):.4f}\")\n",
        "print(f\"Polynomial Regression - Mean Squared Error (MSE): {mean_squared_error(y_test, y_pred_poly):.4f}\")\n",
        "print(f\"Polynomial Regression - Categorical Classification Accuracy: {category_accuracy_poly:.4f}\")\n",
        "\n",
        "for i in range(5):\n",
        "    print(f\"Predicted HSS: {y_pred_poly[i]:.4f}, Actual HSS: {y_test.iloc[i]:.4f}, Predicted Category: {y_pred_categories_poly[i]}, Actual Category: {y_category_test.iloc[i]}\")\n"
      ],
      "metadata": {
        "colab": {
          "base_uri": "https://localhost:8080/"
        },
        "id": "Z_ts5HhfluHx",
        "outputId": "05c6e003-44b3-46da-9df1-7013a061912a"
      },
      "execution_count": 14,
      "outputs": [
        {
          "output_type": "stream",
          "name": "stdout",
          "text": [
            "Polynomial Regression - Mean Absolute Error (MAE): 0.1121\n",
            "Polynomial Regression - Mean Squared Error (MSE): 0.0215\n",
            "Polynomial Regression - Categorical Classification Accuracy: 0.6667\n",
            "Predicted HSS: 0.4049, Actual HSS: 0.2591, Predicted Category: Moderate Susceptibility, Actual Category: Low Susceptibility\n",
            "Predicted HSS: 1.0000, Actual HSS: 0.7085, Predicted Category: Very High Susceptibility, Actual Category: Very High Susceptibility\n",
            "Predicted HSS: 0.3733, Actual HSS: 0.2500, Predicted Category: Moderate Susceptibility, Actual Category: Low Susceptibility\n",
            "Predicted HSS: 0.6028, Actual HSS: 0.5179, Predicted Category: High Susceptibility, Actual Category: High Susceptibility\n",
            "Predicted HSS: 0.5286, Actual HSS: 0.5490, Predicted Category: High Susceptibility, Actual Category: High Susceptibility\n"
          ]
        }
      ]
    },
    {
      "cell_type": "code",
      "source": [
        "from sklearn.preprocessing import PolynomialFeatures\n",
        "from sklearn.linear_model import LinearRegression\n",
        "from sklearn.metrics import mean_absolute_error, mean_squared_error, accuracy_score\n",
        "\n",
        "degree = 2\n",
        "poly = PolynomialFeatures(degree)\n",
        "\n",
        "X_poly_train = poly.fit_transform(X_train)\n",
        "X_poly_test = poly.transform(X_test)\n",
        "\n",
        "poly_lr_model = LinearRegression()\n",
        "poly_lr_model.fit(X_poly_train, y_train)\n",
        "\n",
        "y_pred_poly = poly_lr_model.predict(X_poly_test)\n",
        "\n",
        "y_pred_poly = np.clip(y_pred_poly, 0, 1)\n",
        "\n",
        "y_pred_categories_poly = [classify_hss(score) for score in y_pred_poly]\n",
        "\n",
        "category_accuracy_poly = accuracy_score(y_category_test, y_pred_categories_poly)\n",
        "\n",
        "print(f\"Polynomial Regression - Mean Absolute Error (MAE): {mean_absolute_error(y_test, y_pred_poly):.4f}\")\n",
        "print(f\"Polynomial Regression - Mean Squared Error (MSE): {mean_squared_error(y_test, y_pred_poly):.4f}\")\n",
        "print(f\"Polynomial Regression - Categorical Classification Accuracy: {category_accuracy_poly:.4f}\")\n",
        "\n",
        "for i in range(5):\n",
        "    print(f\"Predicted HSS: {y_pred_poly[i]:.4f}, Actual HSS: {y_test.iloc[i]:.4f}, Predicted Category: {y_pred_categories_poly[i]}, Actual Category: {y_category_test.iloc[i]}\")\n"
      ],
      "metadata": {
        "colab": {
          "base_uri": "https://localhost:8080/"
        },
        "id": "_BZbOjxYl1gg",
        "outputId": "d7836eee-862e-4f4a-8230-1f0105b9d735"
      },
      "execution_count": 15,
      "outputs": [
        {
          "output_type": "stream",
          "name": "stdout",
          "text": [
            "Polynomial Regression - Mean Absolute Error (MAE): 0.0754\n",
            "Polynomial Regression - Mean Squared Error (MSE): 0.0094\n",
            "Polynomial Regression - Categorical Classification Accuracy: 0.3333\n",
            "Predicted HSS: 0.3775, Actual HSS: 0.2591, Predicted Category: Moderate Susceptibility, Actual Category: Low Susceptibility\n",
            "Predicted HSS: 0.5383, Actual HSS: 0.7085, Predicted Category: High Susceptibility, Actual Category: Very High Susceptibility\n",
            "Predicted HSS: 0.3571, Actual HSS: 0.2500, Predicted Category: Moderate Susceptibility, Actual Category: Low Susceptibility\n",
            "Predicted HSS: 0.4995, Actual HSS: 0.5179, Predicted Category: Moderate Susceptibility, Actual Category: High Susceptibility\n",
            "Predicted HSS: 0.5487, Actual HSS: 0.5490, Predicted Category: High Susceptibility, Actual Category: High Susceptibility\n"
          ]
        }
      ]
    },
    {
      "cell_type": "code",
      "source": [
        "from sklearn.preprocessing import PolynomialFeatures\n",
        "from sklearn.linear_model import LinearRegression\n",
        "from sklearn.metrics import mean_absolute_error, mean_squared_error, accuracy_score\n",
        "\n",
        "degree = 4\n",
        "poly = PolynomialFeatures(degree)\n",
        "\n",
        "X_poly_train = poly.fit_transform(X_train)\n",
        "X_poly_test = poly.transform(X_test)\n",
        "\n",
        "poly_lr_model = LinearRegression()\n",
        "poly_lr_model.fit(X_poly_train, y_train)\n",
        "\n",
        "y_pred_poly = poly_lr_model.predict(X_poly_test)\n",
        "\n",
        "y_pred_poly = np.clip(y_pred_poly, 0, 1)\n",
        "\n",
        "y_pred_categories_poly = [classify_hss(score) for score in y_pred_poly]\n",
        "\n",
        "category_accuracy_poly = accuracy_score(y_category_test, y_pred_categories_poly)\n",
        "\n",
        "print(f\"Polynomial Regression - Mean Absolute Error (MAE): {mean_absolute_error(y_test, y_pred_poly):.4f}\")\n",
        "print(f\"Polynomial Regression - Mean Squared Error (MSE): {mean_squared_error(y_test, y_pred_poly):.4f}\")\n",
        "print(f\"Polynomial Regression - Categorical Classification Accuracy: {category_accuracy_poly:.4f}\")\n",
        "\n",
        "for i in range(5):\n",
        "    print(f\"Predicted HSS: {y_pred_poly[i]:.4f}, Actual HSS: {y_test.iloc[i]:.4f}, Predicted Category: {y_pred_categories_poly[i]}, Actual Category: {y_category_test.iloc[i]}\")\n"
      ],
      "metadata": {
        "colab": {
          "base_uri": "https://localhost:8080/"
        },
        "id": "E_lFhfxrl4KY",
        "outputId": "64c4b53c-a84f-4dc8-8281-d4b10f48e3b2"
      },
      "execution_count": 16,
      "outputs": [
        {
          "output_type": "stream",
          "name": "stdout",
          "text": [
            "Polynomial Regression - Mean Absolute Error (MAE): 0.0892\n",
            "Polynomial Regression - Mean Squared Error (MSE): 0.0107\n",
            "Polynomial Regression - Categorical Classification Accuracy: 0.5000\n",
            "Predicted HSS: 0.4256, Actual HSS: 0.2591, Predicted Category: Moderate Susceptibility, Actual Category: Low Susceptibility\n",
            "Predicted HSS: 0.6650, Actual HSS: 0.7085, Predicted Category: High Susceptibility, Actual Category: Very High Susceptibility\n",
            "Predicted HSS: 0.4047, Actual HSS: 0.2500, Predicted Category: Moderate Susceptibility, Actual Category: Low Susceptibility\n",
            "Predicted HSS: 0.5929, Actual HSS: 0.5179, Predicted Category: High Susceptibility, Actual Category: High Susceptibility\n",
            "Predicted HSS: 0.5208, Actual HSS: 0.5490, Predicted Category: High Susceptibility, Actual Category: High Susceptibility\n"
          ]
        }
      ]
    },
    {
      "cell_type": "code",
      "source": [
        "from sklearn.linear_model import Ridge\n",
        "\n",
        "ridge_model = Ridge(alpha=1.0)\n",
        "ridge_model.fit(X_train, y_train)\n",
        "\n",
        "y_pred_ridge = ridge_model.predict(X_test)\n",
        "\n",
        "y_pred_ridge = np.clip(y_pred_ridge, 0, 1)\n",
        "\n",
        "y_pred_categories_ridge = [classify_hss(score) for score in y_pred_ridge]\n",
        "\n",
        "category_accuracy_ridge = accuracy_score(y_category_test, y_pred_categories_ridge)\n",
        "\n",
        "print(f\"Ridge Regression - Mean Absolute Error (MAE): {mean_absolute_error(y_test, y_pred_ridge):.4f}\")\n",
        "print(f\"Ridge Regression - Mean Squared Error (MSE): {mean_squared_error(y_test, y_pred_ridge):.4f}\")\n",
        "print(f\"Ridge Regression - Categorical Classification Accuracy: {category_accuracy_ridge:.4f}\")\n",
        "\n",
        "for i in range(5):\n",
        "    print(f\"Predicted HSS: {y_pred_ridge[i]:.4f}, Actual HSS: {y_test.iloc[i]:.4f}, Predicted Category: {y_pred_categories_ridge[i]}, Actual Category: {y_category_test.iloc[i]}\")\n"
      ],
      "metadata": {
        "colab": {
          "base_uri": "https://localhost:8080/"
        },
        "id": "1jqdDC2Jl6Jo",
        "outputId": "673aae66-4e55-48ca-ffee-6ec4e85e955d"
      },
      "execution_count": 17,
      "outputs": [
        {
          "output_type": "stream",
          "name": "stdout",
          "text": [
            "Ridge Regression - Mean Absolute Error (MAE): 0.0073\n",
            "Ridge Regression - Mean Squared Error (MSE): 0.0001\n",
            "Ridge Regression - Categorical Classification Accuracy: 0.8333\n",
            "Predicted HSS: 0.2750, Actual HSS: 0.2591, Predicted Category: Low Susceptibility, Actual Category: Low Susceptibility\n",
            "Predicted HSS: 0.7007, Actual HSS: 0.7085, Predicted Category: Unknown, Actual Category: Very High Susceptibility\n",
            "Predicted HSS: 0.2642, Actual HSS: 0.2500, Predicted Category: Low Susceptibility, Actual Category: Low Susceptibility\n",
            "Predicted HSS: 0.5216, Actual HSS: 0.5179, Predicted Category: High Susceptibility, Actual Category: High Susceptibility\n",
            "Predicted HSS: 0.5469, Actual HSS: 0.5490, Predicted Category: High Susceptibility, Actual Category: High Susceptibility\n"
          ]
        }
      ]
    },
    {
      "cell_type": "code",
      "source": [
        "from sklearn.linear_model import Lasso\n",
        "\n",
        "lasso_model = Lasso(alpha=0.1)\n",
        "lasso_model.fit(X_train, y_train)\n",
        "\n",
        "y_pred_lasso = lasso_model.predict(X_test)\n",
        "\n",
        "y_pred_lasso = np.clip(y_pred_lasso, 0, 1)\n",
        "\n",
        "y_pred_categories_lasso = [classify_hss(score) for score in y_pred_lasso]\n",
        "\n",
        "category_accuracy_lasso = accuracy_score(y_category_test, y_pred_categories_lasso)\n",
        "\n",
        "print(f\"Lasso Regression - Mean Absolute Error (MAE): {mean_absolute_error(y_test, y_pred_lasso):.4f}\")\n",
        "print(f\"Lasso Regression - Mean Squared Error (MSE): {mean_squared_error(y_test, y_pred_lasso):.4f}\")\n",
        "print(f\"Lasso Regression - Categorical Classification Accuracy: {category_accuracy_lasso:.4f}\")\n",
        "\n",
        "for i in range(5):\n",
        "    print(f\"Predicted HSS: {y_pred_lasso[i]:.4f}, Actual HSS: {y_test.iloc[i]:.4f}, Predicted Category: {y_pred_categories_lasso[i]}, Actual Category: {y_category_test.iloc[i]}\")\n"
      ],
      "metadata": {
        "colab": {
          "base_uri": "https://localhost:8080/"
        },
        "id": "R2ahHy_xmEHw",
        "outputId": "e648fea6-7325-43a3-cc85-ad453185e5c3"
      },
      "execution_count": 18,
      "outputs": [
        {
          "output_type": "stream",
          "name": "stdout",
          "text": [
            "Lasso Regression - Mean Absolute Error (MAE): 0.1439\n",
            "Lasso Regression - Mean Squared Error (MSE): 0.0267\n",
            "Lasso Regression - Categorical Classification Accuracy: 0.1667\n",
            "Predicted HSS: 0.4533, Actual HSS: 0.2591, Predicted Category: Moderate Susceptibility, Actual Category: Low Susceptibility\n",
            "Predicted HSS: 0.4533, Actual HSS: 0.7085, Predicted Category: Moderate Susceptibility, Actual Category: Very High Susceptibility\n",
            "Predicted HSS: 0.4533, Actual HSS: 0.2500, Predicted Category: Moderate Susceptibility, Actual Category: Low Susceptibility\n",
            "Predicted HSS: 0.4533, Actual HSS: 0.5179, Predicted Category: Moderate Susceptibility, Actual Category: High Susceptibility\n",
            "Predicted HSS: 0.4533, Actual HSS: 0.5490, Predicted Category: Moderate Susceptibility, Actual Category: High Susceptibility\n"
          ]
        }
      ]
    },
    {
      "cell_type": "code",
      "source": [
        "from sklearn.linear_model import ElasticNet\n",
        "\n",
        "elastic_net_model = ElasticNet(alpha=1.0, l1_ratio=0.5)\n",
        "elastic_net_model.fit(X_train, y_train)\n",
        "\n",
        "y_pred_en = elastic_net_model.predict(X_test)\n",
        "\n",
        "y_pred_en = np.clip(y_pred_en, 0, 1)\n",
        "\n",
        "y_pred_categories_en = [classify_hss(score) for score in y_pred_en]\n",
        "\n",
        "category_accuracy_en = accuracy_score(y_category_test, y_pred_categories_en)\n",
        "\n",
        "print(f\"Elastic Net Regression - Mean Absolute Error (MAE): {mean_absolute_error(y_test, y_pred_en):.4f}\")\n",
        "print(f\"Elastic Net Regression - Mean Squared Error (MSE): {mean_squared_error(y_test, y_pred_en):.4f}\")\n",
        "print(f\"Elastic Net Regression - Categorical Classification Accuracy: {category_accuracy_en:.4f}\")\n",
        "\n",
        "for i in range(5):\n",
        "    print(f\"Predicted HSS: {y_pred_en[i]:.4f}, Actual HSS: {y_test.iloc[i]:.4f}, Predicted Category: {y_pred_categories_en[i]}, Actual Category: {y_category_test.iloc[i]}\")\n"
      ],
      "metadata": {
        "colab": {
          "base_uri": "https://localhost:8080/"
        },
        "id": "xtAtMVNFmJkZ",
        "outputId": "2d154240-b1a7-4639-fe7c-a43cdb02b175"
      },
      "execution_count": 19,
      "outputs": [
        {
          "output_type": "stream",
          "name": "stdout",
          "text": [
            "Elastic Net Regression - Mean Absolute Error (MAE): 0.1439\n",
            "Elastic Net Regression - Mean Squared Error (MSE): 0.0267\n",
            "Elastic Net Regression - Categorical Classification Accuracy: 0.1667\n",
            "Predicted HSS: 0.4533, Actual HSS: 0.2591, Predicted Category: Moderate Susceptibility, Actual Category: Low Susceptibility\n",
            "Predicted HSS: 0.4533, Actual HSS: 0.7085, Predicted Category: Moderate Susceptibility, Actual Category: Very High Susceptibility\n",
            "Predicted HSS: 0.4533, Actual HSS: 0.2500, Predicted Category: Moderate Susceptibility, Actual Category: Low Susceptibility\n",
            "Predicted HSS: 0.4533, Actual HSS: 0.5179, Predicted Category: Moderate Susceptibility, Actual Category: High Susceptibility\n",
            "Predicted HSS: 0.4533, Actual HSS: 0.5490, Predicted Category: Moderate Susceptibility, Actual Category: High Susceptibility\n"
          ]
        }
      ]
    },
    {
      "cell_type": "code",
      "source": [
        "from sklearn.neighbors import KNeighborsRegressor\n",
        "\n",
        "knn_model = KNeighborsRegressor(n_neighbors=5)\n",
        "knn_model.fit(X_train, y_train)\n",
        "\n",
        "y_pred_knn = knn_model.predict(X_test)\n",
        "\n",
        "y_pred_knn = np.clip(y_pred_knn, 0, 1)\n",
        "\n",
        "y_pred_categories_knn = [classify_hss(score) for score in y_pred_knn]\n",
        "\n",
        "category_accuracy_knn = accuracy_score(y_category_test, y_pred_categories_knn)\n",
        "\n",
        "print(f\"KNN Regression - Mean Absolute Error (MAE): {mean_absolute_error(y_test, y_pred_knn):.4f}\")\n",
        "print(f\"KNN Regression - Mean Squared Error (MSE): {mean_squared_error(y_test, y_pred_knn):.4f}\")\n",
        "print(f\"KNN Regression - Categorical Classification Accuracy: {category_accuracy_knn:.4f}\")\n",
        "\n",
        "for i in range(5):\n",
        "    print(f\"Predicted HSS: {y_pred_knn[i]:.4f}, Actual HSS: {y_test.iloc[i]:.4f}, Predicted Category: {y_pred_categories_knn[i]}, Actual Category: {y_category_test.iloc[i]}\")\n"
      ],
      "metadata": {
        "colab": {
          "base_uri": "https://localhost:8080/"
        },
        "id": "ml4wM1SNmQqP",
        "outputId": "654d0058-5b0e-4e07-d4c2-6f1417d2b949"
      },
      "execution_count": 2,
      "outputs": [
        {
          "output_type": "stream",
          "name": "stdout",
          "text": [
            "KNN Regression - Mean Absolute Error (MAE): 0.0802\n",
            "KNN Regression - Mean Squared Error (MSE): 0.0103\n",
            "KNN Regression - Categorical Classification Accuracy: 0.3333\n",
            "Predicted HSS: 0.3606, Actual HSS: 0.2591, Predicted Category: Moderate Susceptibility, Actual Category: Low Susceptibility\n",
            "Predicted HSS: 0.5257, Actual HSS: 0.7085, Predicted Category: High Susceptibility, Actual Category: Very High Susceptibility\n",
            "Predicted HSS: 0.3776, Actual HSS: 0.2500, Predicted Category: Moderate Susceptibility, Actual Category: Low Susceptibility\n",
            "Predicted HSS: 0.4975, Actual HSS: 0.5179, Predicted Category: Moderate Susceptibility, Actual Category: High Susceptibility\n",
            "Predicted HSS: 0.5164, Actual HSS: 0.5490, Predicted Category: High Susceptibility, Actual Category: High Susceptibility\n"
          ]
        }
      ]
    },
    {
      "cell_type": "code",
      "source": [
        "from sklearn.tree import DecisionTreeRegressor\n",
        "\n",
        "dt_model = DecisionTreeRegressor(random_state=42)\n",
        "dt_model.fit(X_train, y_train)\n",
        "\n",
        "y_pred_dt = dt_model.predict(X_test)\n",
        "\n",
        "y_pred_dt = np.clip(y_pred_dt, 0, 1)\n",
        "\n",
        "y_pred_categories_dt = [classify_hss(score) for score in y_pred_dt]\n",
        "\n",
        "category_accuracy_dt = accuracy_score(y_category_test, y_pred_categories_dt)\n",
        "\n",
        "print(f\"Decision Tree Regression - Mean Absolute Error (MAE): {mean_absolute_error(y_test, y_pred_dt):.4f}\")\n",
        "print(f\"Decision Tree Regression - Mean Squared Error (MSE): {mean_squared_error(y_test, y_pred_dt):.4f}\")\n",
        "print(f\"Decision Tree Regression - Categorical Classification Accuracy: {category_accuracy_dt:.4f}\")\n",
        "\n",
        "for i in range(5):\n",
        "    print(f\"Predicted HSS: {y_pred_dt[i]:.4f}, Actual HSS: {y_test.iloc[i]:.4f}, Predicted Category: {y_pred_categories_dt[i]}, Actual Category: {y_category_test.iloc[i]}\")\n"
      ],
      "metadata": {
        "colab": {
          "base_uri": "https://localhost:8080/"
        },
        "id": "LmJ0ZV9bwqkM",
        "outputId": "067cebd0-533c-4fc4-f698-46b79cfd3f97"
      },
      "execution_count": 3,
      "outputs": [
        {
          "output_type": "stream",
          "name": "stdout",
          "text": [
            "Decision Tree Regression - Mean Absolute Error (MAE): 0.0995\n",
            "Decision Tree Regression - Mean Squared Error (MSE): 0.0173\n",
            "Decision Tree Regression - Categorical Classification Accuracy: 0.3333\n",
            "Predicted HSS: 0.4442, Actual HSS: 0.2591, Predicted Category: Moderate Susceptibility, Actual Category: Low Susceptibility\n",
            "Predicted HSS: 0.4939, Actual HSS: 0.7085, Predicted Category: Moderate Susceptibility, Actual Category: Very High Susceptibility\n",
            "Predicted HSS: 0.4000, Actual HSS: 0.2500, Predicted Category: Moderate Susceptibility, Actual Category: Low Susceptibility\n",
            "Predicted HSS: 0.4939, Actual HSS: 0.5179, Predicted Category: Moderate Susceptibility, Actual Category: High Susceptibility\n",
            "Predicted HSS: 0.5341, Actual HSS: 0.5490, Predicted Category: High Susceptibility, Actual Category: High Susceptibility\n"
          ]
        }
      ]
    },
    {
      "cell_type": "code",
      "source": [],
      "metadata": {
        "id": "934hJRn6w2ZD"
      },
      "execution_count": null,
      "outputs": []
    },
    {
      "cell_type": "markdown",
      "source": [
        "Ridge Hyperparameter Tuning"
      ],
      "metadata": {
        "id": "2vzxznlwxJ62"
      }
    },
    {
      "cell_type": "code",
      "source": [
        "from sklearn.model_selection import GridSearchCV\n",
        "from sklearn.linear_model import Ridge\n",
        "from sklearn.metrics import mean_absolute_error, mean_squared_error, accuracy_score\n",
        "\n",
        "param_grid = {'alpha': [0.01, 0.1, 1, 10, 100]}\n",
        "\n",
        "ridge = Ridge()\n",
        "\n",
        "grid_search = GridSearchCV(estimator=ridge, param_grid=param_grid, cv=5, scoring='neg_mean_absolute_error')\n",
        "\n",
        "grid_search.fit(X_train, y_train)\n",
        "\n",
        "best_alpha = grid_search.best_params_['alpha']\n",
        "print(f\"Best alpha found: {best_alpha}\")\n",
        "\n",
        "best_ridge_model = grid_search.best_estimator_\n",
        "\n",
        "y_pred_best_ridge = best_ridge_model.predict(X_test)\n",
        "\n",
        "y_pred_best_ridge = np.clip(y_pred_best_ridge, 0, 1)\n",
        "\n",
        "y_pred_categories_best_ridge = [classify_hss(score) for score in y_pred_best_ridge]\n",
        "\n",
        "category_accuracy_best_ridge = accuracy_score(y_category_test, y_pred_categories_best_ridge)\n",
        "\n",
        "print(f\"Best Ridge Regression - Mean Absolute Error (MAE): {mean_absolute_error(y_test, y_pred_best_ridge):.8f}\")\n",
        "print(f\"Best Ridge Regression - Mean Squared Error (MSE): {mean_squared_error(y_test, y_pred_best_ridge):.8f}\")\n",
        "print(f\"Best Ridge Regression - Categorical Classification Accuracy: {category_accuracy_best_ridge:.8f}\")\n",
        "\n",
        "for i in range(5):\n",
        "    print(f\"Predicted HSS: {y_pred_best_ridge[i]:.8f}, Actual HSS: {y_test.iloc[i]:.8f}, Predicted Category: {y_pred_categories_best_ridge[i]}, Actual Category: {y_category_test.iloc[i]}\")\n"
      ],
      "metadata": {
        "colab": {
          "base_uri": "https://localhost:8080/"
        },
        "id": "L0QOjOUKxM89",
        "outputId": "08f14c92-6c11-40f2-8538-054f500b1bbe"
      },
      "execution_count": 5,
      "outputs": [
        {
          "output_type": "stream",
          "name": "stdout",
          "text": [
            "Best alpha found: 0.01\n",
            "Best Ridge Regression - Mean Absolute Error (MAE): 0.00008371\n",
            "Best Ridge Regression - Mean Squared Error (MSE): 0.00000001\n",
            "Best Ridge Regression - Categorical Classification Accuracy: 0.83333333\n",
            "Predicted HSS: 0.25926879, Actual HSS: 0.25909000, Predicted Category: Low Susceptibility, Actual Category: Low Susceptibility\n",
            "Predicted HSS: 0.70842335, Actual HSS: 0.70851000, Predicted Category: Unknown, Actual Category: Very High Susceptibility\n",
            "Predicted HSS: 0.25011362, Actual HSS: 0.24995500, Predicted Category: Low Susceptibility, Actual Category: Low Susceptibility\n",
            "Predicted HSS: 0.51796562, Actual HSS: 0.51791500, Predicted Category: High Susceptibility, Actual Category: High Susceptibility\n",
            "Predicted HSS: 0.54901663, Actual HSS: 0.54904000, Predicted Category: High Susceptibility, Actual Category: High Susceptibility\n"
          ]
        }
      ]
    },
    {
      "cell_type": "code",
      "source": [
        "import joblib\n",
        "\n",
        "joblib.dump(best_ridge_model, 'ML_model.pkl')"
      ],
      "metadata": {
        "colab": {
          "base_uri": "https://localhost:8080/"
        },
        "id": "-bXcj4TPxU8K",
        "outputId": "8bf8e2a6-2a1f-46cb-d362-81de41740504"
      },
      "execution_count": 6,
      "outputs": [
        {
          "output_type": "execute_result",
          "data": {
            "text/plain": [
              "['ML_model.pkl']"
            ]
          },
          "metadata": {},
          "execution_count": 6
        }
      ]
    }
  ]
}